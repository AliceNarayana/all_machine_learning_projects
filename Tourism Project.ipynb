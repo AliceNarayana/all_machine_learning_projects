{
 "cells": [
  {
   "cell_type": "markdown",
   "metadata": {},
   "source": [
    "### Data Details:\n",
    "- CustomerID: Unique customer ID\n",
    "- ProdTaken: Product taken flag\n",
    "- Age: Age of customer\n",
    "- TypeofContact: How customer was contacted (Company Invited or Self Inquiry)\n",
    "- CityTier: City tier\n",
    "- Occupation: Occupation of customer\n",
    "- Gender: Gender of customer\n",
    "- NumberOfPersonVisited: Total number of person came with customer\n",
    "- PreferredPropertyStar: Preferred hotel property rating by customer\n",
    "- MaritalStatus: Marital status of customer\n",
    "- NumberOfTrips: Average number of the trip in a year by customer\n",
    "- Passport: The customer has passport or not\n",
    "- OwnCar: Customers owns a car flag\n",
    "- NumberOfChildrenVisited: Total number of children visit with customer\n",
    "- Designation: Designation of the customer in the current organization\n",
    "- MonthlyIncome: Gross monthly income of the customer\n",
    "\n",
    "### Customer interaction data: \n",
    "\n",
    "- PitchSatisfactionScore: Sales pitch satisfactory score\n",
    "- ProductPitched: Product pitched by a salesperson\n",
    "- NumberOfFollowups: Total number of follow up has been done by sales person after sales pitch\n",
    "- DurationOfPitch: Duration of the pitch by a salesman to customer"
   ]
  },
  {
   "cell_type": "markdown",
   "metadata": {},
   "source": [
    "### Importing necessary libraries"
   ]
  },
  {
   "cell_type": "code",
   "execution_count": 1,
   "metadata": {
    "scrolled": false
   },
   "outputs": [],
   "source": [
    "import numpy as np\n",
    "import pandas as pd\n",
    "import matplotlib.pyplot as plt\n",
    "import seaborn as sns\n",
    "from sklearn.tree import DecisionTreeClassifier\n",
    "from sklearn.model_selection import train_test_split\n",
    "from sklearn.metrics import confusion_matrix, classification_report\n",
    "from sklearn.metrics import accuracy_score,precision_score,recall_score,f1_score\n",
    "import sklearn.exceptions\n",
    "import scipy.stats as stats\n",
    "from sklearn import metrics\n",
    "from sklearn import tree\n",
    "from sklearn.model_selection import GridSearchCV\n",
    "from sklearn.ensemble import BaggingClassifier\n",
    "from sklearn.ensemble import RandomForestClassifier\n",
    "from sklearn.ensemble import BaggingRegressor,RandomForestRegressor, GradientBoostingRegressor, AdaBoostRegressor\n",
    "##,StackingRegressor\n",
    "#from xgboost import XGBRegressor\n",
    "from sklearn import metrics\n",
    "from sklearn.model_selection import GridSearchCV, train_test_split\n",
    "import warnings\n",
    "warnings.filterwarnings('ignore')"
   ]
  },
  {
   "cell_type": "code",
   "execution_count": 2,
   "metadata": {},
   "outputs": [],
   "source": [
    "#Loading dataset\n",
    "data=pd.read_excel(\"Tourism.xlsx\")"
   ]
  },
  {
   "cell_type": "code",
   "execution_count": 3,
   "metadata": {},
   "outputs": [],
   "source": [
    "#data has multiple worksheet\n",
    "data1 = pd.read_excel(\"Tourism.xlsx\", 'Data Dict')\n",
    "data2 = pd.read_excel(\"Tourism.xlsx\", 'Tourism')"
   ]
  },
  {
   "cell_type": "code",
   "execution_count": 4,
   "metadata": {},
   "outputs": [],
   "source": [
    "tour=data2.copy()"
   ]
  },
  {
   "cell_type": "code",
   "execution_count": 5,
   "metadata": {},
   "outputs": [
    {
     "data": {
      "text/html": [
       "<div>\n",
       "<style scoped>\n",
       "    .dataframe tbody tr th:only-of-type {\n",
       "        vertical-align: middle;\n",
       "    }\n",
       "\n",
       "    .dataframe tbody tr th {\n",
       "        vertical-align: top;\n",
       "    }\n",
       "\n",
       "    .dataframe thead th {\n",
       "        text-align: right;\n",
       "    }\n",
       "</style>\n",
       "<table border=\"1\" class=\"dataframe\">\n",
       "  <thead>\n",
       "    <tr style=\"text-align: right;\">\n",
       "      <th></th>\n",
       "      <th>Unnamed: 0</th>\n",
       "      <th>Unnamed: 1</th>\n",
       "      <th>Unnamed: 2</th>\n",
       "      <th>Unnamed: 3</th>\n",
       "    </tr>\n",
       "  </thead>\n",
       "  <tbody>\n",
       "    <tr>\n",
       "      <th>0</th>\n",
       "      <td>NaN</td>\n",
       "      <td>Data</td>\n",
       "      <td>Variable</td>\n",
       "      <td>Discerption</td>\n",
       "    </tr>\n",
       "    <tr>\n",
       "      <th>1</th>\n",
       "      <td>NaN</td>\n",
       "      <td>Tourism</td>\n",
       "      <td>CustomerID</td>\n",
       "      <td>Unique customer ID</td>\n",
       "    </tr>\n",
       "    <tr>\n",
       "      <th>2</th>\n",
       "      <td>NaN</td>\n",
       "      <td>Tourism</td>\n",
       "      <td>ProdTaken</td>\n",
       "      <td>Product taken flag</td>\n",
       "    </tr>\n",
       "    <tr>\n",
       "      <th>3</th>\n",
       "      <td>NaN</td>\n",
       "      <td>Tourism</td>\n",
       "      <td>Age</td>\n",
       "      <td>Age of customer</td>\n",
       "    </tr>\n",
       "    <tr>\n",
       "      <th>4</th>\n",
       "      <td>NaN</td>\n",
       "      <td>Tourism</td>\n",
       "      <td>TypeofContact</td>\n",
       "      <td>How customer was contacted (Company Invited or...</td>\n",
       "    </tr>\n",
       "  </tbody>\n",
       "</table>\n",
       "</div>"
      ],
      "text/plain": [
       "   Unnamed: 0 Unnamed: 1     Unnamed: 2  \\\n",
       "0         NaN       Data       Variable   \n",
       "1         NaN    Tourism     CustomerID   \n",
       "2         NaN    Tourism      ProdTaken   \n",
       "3         NaN    Tourism            Age   \n",
       "4         NaN    Tourism  TypeofContact   \n",
       "\n",
       "                                          Unnamed: 3  \n",
       "0                                        Discerption  \n",
       "1                                 Unique customer ID  \n",
       "2                                 Product taken flag  \n",
       "3                                    Age of customer  \n",
       "4  How customer was contacted (Company Invited or...  "
      ]
     },
     "execution_count": 5,
     "metadata": {},
     "output_type": "execute_result"
    }
   ],
   "source": [
    "data1.head()"
   ]
  },
  {
   "cell_type": "code",
   "execution_count": 5,
   "metadata": {},
   "outputs": [
    {
     "data": {
      "text/html": [
       "<div>\n",
       "<style scoped>\n",
       "    .dataframe tbody tr th:only-of-type {\n",
       "        vertical-align: middle;\n",
       "    }\n",
       "\n",
       "    .dataframe tbody tr th {\n",
       "        vertical-align: top;\n",
       "    }\n",
       "\n",
       "    .dataframe thead th {\n",
       "        text-align: right;\n",
       "    }\n",
       "</style>\n",
       "<table border=\"1\" class=\"dataframe\">\n",
       "  <thead>\n",
       "    <tr style=\"text-align: right;\">\n",
       "      <th></th>\n",
       "      <th>CustomerID</th>\n",
       "      <th>ProdTaken</th>\n",
       "      <th>Age</th>\n",
       "      <th>TypeofContact</th>\n",
       "      <th>CityTier</th>\n",
       "      <th>DurationOfPitch</th>\n",
       "      <th>Occupation</th>\n",
       "      <th>Gender</th>\n",
       "      <th>NumberOfPersonVisited</th>\n",
       "      <th>NumberOfFollowups</th>\n",
       "      <th>ProductPitched</th>\n",
       "      <th>PreferredPropertyStar</th>\n",
       "      <th>MaritalStatus</th>\n",
       "      <th>NumberOfTrips</th>\n",
       "      <th>Passport</th>\n",
       "      <th>PitchSatisfactionScore</th>\n",
       "      <th>OwnCar</th>\n",
       "      <th>NumberOfChildrenVisited</th>\n",
       "      <th>Designation</th>\n",
       "      <th>MonthlyIncome</th>\n",
       "    </tr>\n",
       "  </thead>\n",
       "  <tbody>\n",
       "    <tr>\n",
       "      <th>0</th>\n",
       "      <td>200000</td>\n",
       "      <td>1</td>\n",
       "      <td>41.0</td>\n",
       "      <td>Self Enquiry</td>\n",
       "      <td>3</td>\n",
       "      <td>6.0</td>\n",
       "      <td>Salaried</td>\n",
       "      <td>Female</td>\n",
       "      <td>3</td>\n",
       "      <td>3.0</td>\n",
       "      <td>Deluxe</td>\n",
       "      <td>3.0</td>\n",
       "      <td>Single</td>\n",
       "      <td>1.0</td>\n",
       "      <td>1</td>\n",
       "      <td>2</td>\n",
       "      <td>1</td>\n",
       "      <td>0.0</td>\n",
       "      <td>Manager</td>\n",
       "      <td>20993.0</td>\n",
       "    </tr>\n",
       "    <tr>\n",
       "      <th>1</th>\n",
       "      <td>200001</td>\n",
       "      <td>0</td>\n",
       "      <td>49.0</td>\n",
       "      <td>Company Invited</td>\n",
       "      <td>1</td>\n",
       "      <td>14.0</td>\n",
       "      <td>Salaried</td>\n",
       "      <td>Male</td>\n",
       "      <td>3</td>\n",
       "      <td>4.0</td>\n",
       "      <td>Deluxe</td>\n",
       "      <td>4.0</td>\n",
       "      <td>Divorced</td>\n",
       "      <td>2.0</td>\n",
       "      <td>0</td>\n",
       "      <td>3</td>\n",
       "      <td>1</td>\n",
       "      <td>2.0</td>\n",
       "      <td>Manager</td>\n",
       "      <td>20130.0</td>\n",
       "    </tr>\n",
       "    <tr>\n",
       "      <th>2</th>\n",
       "      <td>200002</td>\n",
       "      <td>1</td>\n",
       "      <td>37.0</td>\n",
       "      <td>Self Enquiry</td>\n",
       "      <td>1</td>\n",
       "      <td>8.0</td>\n",
       "      <td>Free Lancer</td>\n",
       "      <td>Male</td>\n",
       "      <td>3</td>\n",
       "      <td>4.0</td>\n",
       "      <td>Basic</td>\n",
       "      <td>3.0</td>\n",
       "      <td>Single</td>\n",
       "      <td>7.0</td>\n",
       "      <td>1</td>\n",
       "      <td>3</td>\n",
       "      <td>0</td>\n",
       "      <td>0.0</td>\n",
       "      <td>Executive</td>\n",
       "      <td>17090.0</td>\n",
       "    </tr>\n",
       "    <tr>\n",
       "      <th>3</th>\n",
       "      <td>200003</td>\n",
       "      <td>0</td>\n",
       "      <td>33.0</td>\n",
       "      <td>Company Invited</td>\n",
       "      <td>1</td>\n",
       "      <td>9.0</td>\n",
       "      <td>Salaried</td>\n",
       "      <td>Female</td>\n",
       "      <td>2</td>\n",
       "      <td>3.0</td>\n",
       "      <td>Basic</td>\n",
       "      <td>3.0</td>\n",
       "      <td>Divorced</td>\n",
       "      <td>2.0</td>\n",
       "      <td>1</td>\n",
       "      <td>5</td>\n",
       "      <td>1</td>\n",
       "      <td>1.0</td>\n",
       "      <td>Executive</td>\n",
       "      <td>17909.0</td>\n",
       "    </tr>\n",
       "    <tr>\n",
       "      <th>4</th>\n",
       "      <td>200004</td>\n",
       "      <td>0</td>\n",
       "      <td>NaN</td>\n",
       "      <td>Self Enquiry</td>\n",
       "      <td>1</td>\n",
       "      <td>8.0</td>\n",
       "      <td>Small Business</td>\n",
       "      <td>Male</td>\n",
       "      <td>2</td>\n",
       "      <td>3.0</td>\n",
       "      <td>Basic</td>\n",
       "      <td>4.0</td>\n",
       "      <td>Divorced</td>\n",
       "      <td>1.0</td>\n",
       "      <td>0</td>\n",
       "      <td>5</td>\n",
       "      <td>1</td>\n",
       "      <td>0.0</td>\n",
       "      <td>Executive</td>\n",
       "      <td>18468.0</td>\n",
       "    </tr>\n",
       "  </tbody>\n",
       "</table>\n",
       "</div>"
      ],
      "text/plain": [
       "   CustomerID  ProdTaken   Age    TypeofContact  CityTier  DurationOfPitch  \\\n",
       "0      200000          1  41.0     Self Enquiry         3              6.0   \n",
       "1      200001          0  49.0  Company Invited         1             14.0   \n",
       "2      200002          1  37.0     Self Enquiry         1              8.0   \n",
       "3      200003          0  33.0  Company Invited         1              9.0   \n",
       "4      200004          0   NaN     Self Enquiry         1              8.0   \n",
       "\n",
       "       Occupation  Gender  NumberOfPersonVisited  NumberOfFollowups  \\\n",
       "0        Salaried  Female                      3                3.0   \n",
       "1        Salaried    Male                      3                4.0   \n",
       "2     Free Lancer    Male                      3                4.0   \n",
       "3        Salaried  Female                      2                3.0   \n",
       "4  Small Business    Male                      2                3.0   \n",
       "\n",
       "  ProductPitched  PreferredPropertyStar MaritalStatus  NumberOfTrips  \\\n",
       "0         Deluxe                    3.0        Single            1.0   \n",
       "1         Deluxe                    4.0      Divorced            2.0   \n",
       "2          Basic                    3.0        Single            7.0   \n",
       "3          Basic                    3.0      Divorced            2.0   \n",
       "4          Basic                    4.0      Divorced            1.0   \n",
       "\n",
       "   Passport  PitchSatisfactionScore  OwnCar  NumberOfChildrenVisited  \\\n",
       "0         1                       2       1                      0.0   \n",
       "1         0                       3       1                      2.0   \n",
       "2         1                       3       0                      0.0   \n",
       "3         1                       5       1                      1.0   \n",
       "4         0                       5       1                      0.0   \n",
       "\n",
       "  Designation  MonthlyIncome  \n",
       "0     Manager        20993.0  \n",
       "1     Manager        20130.0  \n",
       "2   Executive        17090.0  \n",
       "3   Executive        17909.0  \n",
       "4   Executive        18468.0  "
      ]
     },
     "execution_count": 5,
     "metadata": {},
     "output_type": "execute_result"
    }
   ],
   "source": [
    "data2.head()"
   ]
  },
  {
   "cell_type": "code",
   "execution_count": 6,
   "metadata": {},
   "outputs": [
    {
     "data": {
      "text/html": [
       "<div>\n",
       "<style scoped>\n",
       "    .dataframe tbody tr th:only-of-type {\n",
       "        vertical-align: middle;\n",
       "    }\n",
       "\n",
       "    .dataframe tbody tr th {\n",
       "        vertical-align: top;\n",
       "    }\n",
       "\n",
       "    .dataframe thead th {\n",
       "        text-align: right;\n",
       "    }\n",
       "</style>\n",
       "<table border=\"1\" class=\"dataframe\">\n",
       "  <thead>\n",
       "    <tr style=\"text-align: right;\">\n",
       "      <th></th>\n",
       "      <th>CustomerID</th>\n",
       "      <th>ProdTaken</th>\n",
       "      <th>Age</th>\n",
       "      <th>TypeofContact</th>\n",
       "      <th>CityTier</th>\n",
       "      <th>DurationOfPitch</th>\n",
       "      <th>Occupation</th>\n",
       "      <th>Gender</th>\n",
       "      <th>NumberOfPersonVisited</th>\n",
       "      <th>NumberOfFollowups</th>\n",
       "      <th>ProductPitched</th>\n",
       "      <th>PreferredPropertyStar</th>\n",
       "      <th>MaritalStatus</th>\n",
       "      <th>NumberOfTrips</th>\n",
       "      <th>Passport</th>\n",
       "      <th>PitchSatisfactionScore</th>\n",
       "      <th>OwnCar</th>\n",
       "      <th>NumberOfChildrenVisited</th>\n",
       "      <th>Designation</th>\n",
       "      <th>MonthlyIncome</th>\n",
       "    </tr>\n",
       "  </thead>\n",
       "  <tbody>\n",
       "    <tr>\n",
       "      <th>0</th>\n",
       "      <td>200000</td>\n",
       "      <td>1</td>\n",
       "      <td>41.0</td>\n",
       "      <td>Self Enquiry</td>\n",
       "      <td>3</td>\n",
       "      <td>6.0</td>\n",
       "      <td>Salaried</td>\n",
       "      <td>Female</td>\n",
       "      <td>3</td>\n",
       "      <td>3.0</td>\n",
       "      <td>Deluxe</td>\n",
       "      <td>3.0</td>\n",
       "      <td>Single</td>\n",
       "      <td>1.0</td>\n",
       "      <td>1</td>\n",
       "      <td>2</td>\n",
       "      <td>1</td>\n",
       "      <td>0.0</td>\n",
       "      <td>Manager</td>\n",
       "      <td>20993.0</td>\n",
       "    </tr>\n",
       "    <tr>\n",
       "      <th>1</th>\n",
       "      <td>200001</td>\n",
       "      <td>0</td>\n",
       "      <td>49.0</td>\n",
       "      <td>Company Invited</td>\n",
       "      <td>1</td>\n",
       "      <td>14.0</td>\n",
       "      <td>Salaried</td>\n",
       "      <td>Male</td>\n",
       "      <td>3</td>\n",
       "      <td>4.0</td>\n",
       "      <td>Deluxe</td>\n",
       "      <td>4.0</td>\n",
       "      <td>Divorced</td>\n",
       "      <td>2.0</td>\n",
       "      <td>0</td>\n",
       "      <td>3</td>\n",
       "      <td>1</td>\n",
       "      <td>2.0</td>\n",
       "      <td>Manager</td>\n",
       "      <td>20130.0</td>\n",
       "    </tr>\n",
       "    <tr>\n",
       "      <th>2</th>\n",
       "      <td>200002</td>\n",
       "      <td>1</td>\n",
       "      <td>37.0</td>\n",
       "      <td>Self Enquiry</td>\n",
       "      <td>1</td>\n",
       "      <td>8.0</td>\n",
       "      <td>Free Lancer</td>\n",
       "      <td>Male</td>\n",
       "      <td>3</td>\n",
       "      <td>4.0</td>\n",
       "      <td>Basic</td>\n",
       "      <td>3.0</td>\n",
       "      <td>Single</td>\n",
       "      <td>7.0</td>\n",
       "      <td>1</td>\n",
       "      <td>3</td>\n",
       "      <td>0</td>\n",
       "      <td>0.0</td>\n",
       "      <td>Executive</td>\n",
       "      <td>17090.0</td>\n",
       "    </tr>\n",
       "    <tr>\n",
       "      <th>3</th>\n",
       "      <td>200003</td>\n",
       "      <td>0</td>\n",
       "      <td>33.0</td>\n",
       "      <td>Company Invited</td>\n",
       "      <td>1</td>\n",
       "      <td>9.0</td>\n",
       "      <td>Salaried</td>\n",
       "      <td>Female</td>\n",
       "      <td>2</td>\n",
       "      <td>3.0</td>\n",
       "      <td>Basic</td>\n",
       "      <td>3.0</td>\n",
       "      <td>Divorced</td>\n",
       "      <td>2.0</td>\n",
       "      <td>1</td>\n",
       "      <td>5</td>\n",
       "      <td>1</td>\n",
       "      <td>1.0</td>\n",
       "      <td>Executive</td>\n",
       "      <td>17909.0</td>\n",
       "    </tr>\n",
       "    <tr>\n",
       "      <th>4</th>\n",
       "      <td>200004</td>\n",
       "      <td>0</td>\n",
       "      <td>NaN</td>\n",
       "      <td>Self Enquiry</td>\n",
       "      <td>1</td>\n",
       "      <td>8.0</td>\n",
       "      <td>Small Business</td>\n",
       "      <td>Male</td>\n",
       "      <td>2</td>\n",
       "      <td>3.0</td>\n",
       "      <td>Basic</td>\n",
       "      <td>4.0</td>\n",
       "      <td>Divorced</td>\n",
       "      <td>1.0</td>\n",
       "      <td>0</td>\n",
       "      <td>5</td>\n",
       "      <td>1</td>\n",
       "      <td>0.0</td>\n",
       "      <td>Executive</td>\n",
       "      <td>18468.0</td>\n",
       "    </tr>\n",
       "  </tbody>\n",
       "</table>\n",
       "</div>"
      ],
      "text/plain": [
       "   CustomerID  ProdTaken   Age    TypeofContact  CityTier  DurationOfPitch  \\\n",
       "0      200000          1  41.0     Self Enquiry         3              6.0   \n",
       "1      200001          0  49.0  Company Invited         1             14.0   \n",
       "2      200002          1  37.0     Self Enquiry         1              8.0   \n",
       "3      200003          0  33.0  Company Invited         1              9.0   \n",
       "4      200004          0   NaN     Self Enquiry         1              8.0   \n",
       "\n",
       "       Occupation  Gender  NumberOfPersonVisited  NumberOfFollowups  \\\n",
       "0        Salaried  Female                      3                3.0   \n",
       "1        Salaried    Male                      3                4.0   \n",
       "2     Free Lancer    Male                      3                4.0   \n",
       "3        Salaried  Female                      2                3.0   \n",
       "4  Small Business    Male                      2                3.0   \n",
       "\n",
       "  ProductPitched  PreferredPropertyStar MaritalStatus  NumberOfTrips  \\\n",
       "0         Deluxe                    3.0        Single            1.0   \n",
       "1         Deluxe                    4.0      Divorced            2.0   \n",
       "2          Basic                    3.0        Single            7.0   \n",
       "3          Basic                    3.0      Divorced            2.0   \n",
       "4          Basic                    4.0      Divorced            1.0   \n",
       "\n",
       "   Passport  PitchSatisfactionScore  OwnCar  NumberOfChildrenVisited  \\\n",
       "0         1                       2       1                      0.0   \n",
       "1         0                       3       1                      2.0   \n",
       "2         1                       3       0                      0.0   \n",
       "3         1                       5       1                      1.0   \n",
       "4         0                       5       1                      0.0   \n",
       "\n",
       "  Designation  MonthlyIncome  \n",
       "0     Manager        20993.0  \n",
       "1     Manager        20130.0  \n",
       "2   Executive        17090.0  \n",
       "3   Executive        17909.0  \n",
       "4   Executive        18468.0  "
      ]
     },
     "execution_count": 6,
     "metadata": {},
     "output_type": "execute_result"
    }
   ],
   "source": [
    "tour.head()"
   ]
  },
  {
   "cell_type": "code",
   "execution_count": 59,
   "metadata": {},
   "outputs": [
    {
     "data": {
      "text/plain": [
       "(4888, 20)"
      ]
     },
     "execution_count": 59,
     "metadata": {},
     "output_type": "execute_result"
    }
   ],
   "source": [
    "tour.shape"
   ]
  },
  {
   "cell_type": "code",
   "execution_count": 60,
   "metadata": {},
   "outputs": [
    {
     "name": "stdout",
     "output_type": "stream",
     "text": [
      "<class 'pandas.core.frame.DataFrame'>\n",
      "RangeIndex: 4888 entries, 0 to 4887\n",
      "Data columns (total 20 columns):\n",
      "CustomerID                 4888 non-null int64\n",
      "ProdTaken                  4888 non-null int64\n",
      "Age                        4662 non-null float64\n",
      "TypeofContact              4863 non-null object\n",
      "CityTier                   4888 non-null int64\n",
      "DurationOfPitch            4637 non-null float64\n",
      "Occupation                 4888 non-null object\n",
      "Gender                     4888 non-null object\n",
      "NumberOfPersonVisited      4888 non-null int64\n",
      "NumberOfFollowups          4843 non-null float64\n",
      "ProductPitched             4888 non-null object\n",
      "PreferredPropertyStar      4862 non-null float64\n",
      "MaritalStatus              4888 non-null object\n",
      "NumberOfTrips              4748 non-null float64\n",
      "Passport                   4888 non-null int64\n",
      "PitchSatisfactionScore     4888 non-null int64\n",
      "OwnCar                     4888 non-null int64\n",
      "NumberOfChildrenVisited    4822 non-null float64\n",
      "Designation                4888 non-null object\n",
      "MonthlyIncome              4655 non-null float64\n",
      "dtypes: float64(7), int64(7), object(6)\n",
      "memory usage: 763.8+ KB\n"
     ]
    }
   ],
   "source": [
    "tour.info()"
   ]
  },
  {
   "cell_type": "markdown",
   "metadata": {},
   "source": [
    "- There are incomlete rows on this data\n",
    "- We can transform object type into category"
   ]
  },
  {
   "cell_type": "code",
   "execution_count": 61,
   "metadata": {},
   "outputs": [
    {
     "data": {
      "text/plain": [
       "CustomerID                   0\n",
       "ProdTaken                    0\n",
       "Age                        226\n",
       "TypeofContact               25\n",
       "CityTier                     0\n",
       "DurationOfPitch            251\n",
       "Occupation                   0\n",
       "Gender                       0\n",
       "NumberOfPersonVisited        0\n",
       "NumberOfFollowups           45\n",
       "ProductPitched               0\n",
       "PreferredPropertyStar       26\n",
       "MaritalStatus                0\n",
       "NumberOfTrips              140\n",
       "Passport                     0\n",
       "PitchSatisfactionScore       0\n",
       "OwnCar                       0\n",
       "NumberOfChildrenVisited     66\n",
       "Designation                  0\n",
       "MonthlyIncome              233\n",
       "dtype: int64"
      ]
     },
     "execution_count": 61,
     "metadata": {},
     "output_type": "execute_result"
    }
   ],
   "source": [
    "tour.isna().sum()"
   ]
  },
  {
   "cell_type": "markdown",
   "metadata": {},
   "source": [
    "- Some columns shows null values"
   ]
  },
  {
   "cell_type": "markdown",
   "metadata": {},
   "source": [
    "### Fixing Data type"
   ]
  },
  {
   "cell_type": "code",
   "execution_count": 7,
   "metadata": {},
   "outputs": [
    {
     "data": {
      "text/plain": [
       "Index(['TypeofContact', 'Occupation', 'Gender', 'ProductPitched',\n",
       "       'MaritalStatus', 'Designation'],\n",
       "      dtype='object')"
      ]
     },
     "execution_count": 7,
     "metadata": {},
     "output_type": "execute_result"
    }
   ],
   "source": [
    "cols = tour.select_dtypes(['object'])\n",
    "cols.columns"
   ]
  },
  {
   "cell_type": "code",
   "execution_count": 8,
   "metadata": {},
   "outputs": [],
   "source": [
    "for i in cols.columns:\n",
    "    tour[i] = tour[i].astype('category')"
   ]
  },
  {
   "cell_type": "code",
   "execution_count": 9,
   "metadata": {},
   "outputs": [
    {
     "name": "stdout",
     "output_type": "stream",
     "text": [
      "<class 'pandas.core.frame.DataFrame'>\n",
      "RangeIndex: 4888 entries, 0 to 4887\n",
      "Data columns (total 20 columns):\n",
      "CustomerID                 4888 non-null int64\n",
      "ProdTaken                  4888 non-null int64\n",
      "Age                        4662 non-null float64\n",
      "TypeofContact              4863 non-null category\n",
      "CityTier                   4888 non-null int64\n",
      "DurationOfPitch            4637 non-null float64\n",
      "Occupation                 4888 non-null category\n",
      "Gender                     4888 non-null category\n",
      "NumberOfPersonVisited      4888 non-null int64\n",
      "NumberOfFollowups          4843 non-null float64\n",
      "ProductPitched             4888 non-null category\n",
      "PreferredPropertyStar      4862 non-null float64\n",
      "MaritalStatus              4888 non-null category\n",
      "NumberOfTrips              4748 non-null float64\n",
      "Passport                   4888 non-null int64\n",
      "PitchSatisfactionScore     4888 non-null int64\n",
      "OwnCar                     4888 non-null int64\n",
      "NumberOfChildrenVisited    4822 non-null float64\n",
      "Designation                4888 non-null category\n",
      "MonthlyIncome              4655 non-null float64\n",
      "dtypes: category(6), float64(7), int64(7)\n",
      "memory usage: 564.3 KB\n"
     ]
    }
   ],
   "source": [
    "tour.info()"
   ]
  },
  {
   "cell_type": "markdown",
   "metadata": {},
   "source": [
    "### Summary of the dataset"
   ]
  },
  {
   "cell_type": "code",
   "execution_count": 9,
   "metadata": {},
   "outputs": [
    {
     "data": {
      "text/html": [
       "<div>\n",
       "<style scoped>\n",
       "    .dataframe tbody tr th:only-of-type {\n",
       "        vertical-align: middle;\n",
       "    }\n",
       "\n",
       "    .dataframe tbody tr th {\n",
       "        vertical-align: top;\n",
       "    }\n",
       "\n",
       "    .dataframe thead th {\n",
       "        text-align: right;\n",
       "    }\n",
       "</style>\n",
       "<table border=\"1\" class=\"dataframe\">\n",
       "  <thead>\n",
       "    <tr style=\"text-align: right;\">\n",
       "      <th></th>\n",
       "      <th>count</th>\n",
       "      <th>mean</th>\n",
       "      <th>std</th>\n",
       "      <th>min</th>\n",
       "      <th>25%</th>\n",
       "      <th>50%</th>\n",
       "      <th>75%</th>\n",
       "      <th>max</th>\n",
       "    </tr>\n",
       "  </thead>\n",
       "  <tbody>\n",
       "    <tr>\n",
       "      <th>CustomerID</th>\n",
       "      <td>4888.0</td>\n",
       "      <td>202443.500000</td>\n",
       "      <td>1411.188388</td>\n",
       "      <td>200000.0</td>\n",
       "      <td>201221.75</td>\n",
       "      <td>202443.5</td>\n",
       "      <td>203665.25</td>\n",
       "      <td>204887.0</td>\n",
       "    </tr>\n",
       "    <tr>\n",
       "      <th>ProdTaken</th>\n",
       "      <td>4888.0</td>\n",
       "      <td>0.188216</td>\n",
       "      <td>0.390925</td>\n",
       "      <td>0.0</td>\n",
       "      <td>0.00</td>\n",
       "      <td>0.0</td>\n",
       "      <td>0.00</td>\n",
       "      <td>1.0</td>\n",
       "    </tr>\n",
       "    <tr>\n",
       "      <th>Age</th>\n",
       "      <td>4662.0</td>\n",
       "      <td>37.622265</td>\n",
       "      <td>9.316387</td>\n",
       "      <td>18.0</td>\n",
       "      <td>31.00</td>\n",
       "      <td>36.0</td>\n",
       "      <td>44.00</td>\n",
       "      <td>61.0</td>\n",
       "    </tr>\n",
       "    <tr>\n",
       "      <th>CityTier</th>\n",
       "      <td>4888.0</td>\n",
       "      <td>1.654255</td>\n",
       "      <td>0.916583</td>\n",
       "      <td>1.0</td>\n",
       "      <td>1.00</td>\n",
       "      <td>1.0</td>\n",
       "      <td>3.00</td>\n",
       "      <td>3.0</td>\n",
       "    </tr>\n",
       "    <tr>\n",
       "      <th>DurationOfPitch</th>\n",
       "      <td>4637.0</td>\n",
       "      <td>15.490835</td>\n",
       "      <td>8.519643</td>\n",
       "      <td>5.0</td>\n",
       "      <td>9.00</td>\n",
       "      <td>13.0</td>\n",
       "      <td>20.00</td>\n",
       "      <td>127.0</td>\n",
       "    </tr>\n",
       "    <tr>\n",
       "      <th>NumberOfPersonVisited</th>\n",
       "      <td>4888.0</td>\n",
       "      <td>2.905074</td>\n",
       "      <td>0.724891</td>\n",
       "      <td>1.0</td>\n",
       "      <td>2.00</td>\n",
       "      <td>3.0</td>\n",
       "      <td>3.00</td>\n",
       "      <td>5.0</td>\n",
       "    </tr>\n",
       "    <tr>\n",
       "      <th>NumberOfFollowups</th>\n",
       "      <td>4843.0</td>\n",
       "      <td>3.708445</td>\n",
       "      <td>1.002509</td>\n",
       "      <td>1.0</td>\n",
       "      <td>3.00</td>\n",
       "      <td>4.0</td>\n",
       "      <td>4.00</td>\n",
       "      <td>6.0</td>\n",
       "    </tr>\n",
       "    <tr>\n",
       "      <th>PreferredPropertyStar</th>\n",
       "      <td>4862.0</td>\n",
       "      <td>3.581037</td>\n",
       "      <td>0.798009</td>\n",
       "      <td>3.0</td>\n",
       "      <td>3.00</td>\n",
       "      <td>3.0</td>\n",
       "      <td>4.00</td>\n",
       "      <td>5.0</td>\n",
       "    </tr>\n",
       "    <tr>\n",
       "      <th>NumberOfTrips</th>\n",
       "      <td>4748.0</td>\n",
       "      <td>3.236521</td>\n",
       "      <td>1.849019</td>\n",
       "      <td>1.0</td>\n",
       "      <td>2.00</td>\n",
       "      <td>3.0</td>\n",
       "      <td>4.00</td>\n",
       "      <td>22.0</td>\n",
       "    </tr>\n",
       "    <tr>\n",
       "      <th>Passport</th>\n",
       "      <td>4888.0</td>\n",
       "      <td>0.290917</td>\n",
       "      <td>0.454232</td>\n",
       "      <td>0.0</td>\n",
       "      <td>0.00</td>\n",
       "      <td>0.0</td>\n",
       "      <td>1.00</td>\n",
       "      <td>1.0</td>\n",
       "    </tr>\n",
       "    <tr>\n",
       "      <th>PitchSatisfactionScore</th>\n",
       "      <td>4888.0</td>\n",
       "      <td>3.078151</td>\n",
       "      <td>1.365792</td>\n",
       "      <td>1.0</td>\n",
       "      <td>2.00</td>\n",
       "      <td>3.0</td>\n",
       "      <td>4.00</td>\n",
       "      <td>5.0</td>\n",
       "    </tr>\n",
       "    <tr>\n",
       "      <th>OwnCar</th>\n",
       "      <td>4888.0</td>\n",
       "      <td>0.620295</td>\n",
       "      <td>0.485363</td>\n",
       "      <td>0.0</td>\n",
       "      <td>0.00</td>\n",
       "      <td>1.0</td>\n",
       "      <td>1.00</td>\n",
       "      <td>1.0</td>\n",
       "    </tr>\n",
       "    <tr>\n",
       "      <th>NumberOfChildrenVisited</th>\n",
       "      <td>4822.0</td>\n",
       "      <td>1.187267</td>\n",
       "      <td>0.857861</td>\n",
       "      <td>0.0</td>\n",
       "      <td>1.00</td>\n",
       "      <td>1.0</td>\n",
       "      <td>2.00</td>\n",
       "      <td>3.0</td>\n",
       "    </tr>\n",
       "    <tr>\n",
       "      <th>MonthlyIncome</th>\n",
       "      <td>4655.0</td>\n",
       "      <td>23619.853491</td>\n",
       "      <td>5380.698361</td>\n",
       "      <td>1000.0</td>\n",
       "      <td>20346.00</td>\n",
       "      <td>22347.0</td>\n",
       "      <td>25571.00</td>\n",
       "      <td>98678.0</td>\n",
       "    </tr>\n",
       "  </tbody>\n",
       "</table>\n",
       "</div>"
      ],
      "text/plain": [
       "                          count           mean          std       min  \\\n",
       "CustomerID               4888.0  202443.500000  1411.188388  200000.0   \n",
       "ProdTaken                4888.0       0.188216     0.390925       0.0   \n",
       "Age                      4662.0      37.622265     9.316387      18.0   \n",
       "CityTier                 4888.0       1.654255     0.916583       1.0   \n",
       "DurationOfPitch          4637.0      15.490835     8.519643       5.0   \n",
       "NumberOfPersonVisited    4888.0       2.905074     0.724891       1.0   \n",
       "NumberOfFollowups        4843.0       3.708445     1.002509       1.0   \n",
       "PreferredPropertyStar    4862.0       3.581037     0.798009       3.0   \n",
       "NumberOfTrips            4748.0       3.236521     1.849019       1.0   \n",
       "Passport                 4888.0       0.290917     0.454232       0.0   \n",
       "PitchSatisfactionScore   4888.0       3.078151     1.365792       1.0   \n",
       "OwnCar                   4888.0       0.620295     0.485363       0.0   \n",
       "NumberOfChildrenVisited  4822.0       1.187267     0.857861       0.0   \n",
       "MonthlyIncome            4655.0   23619.853491  5380.698361    1000.0   \n",
       "\n",
       "                               25%       50%        75%       max  \n",
       "CustomerID               201221.75  202443.5  203665.25  204887.0  \n",
       "ProdTaken                     0.00       0.0       0.00       1.0  \n",
       "Age                          31.00      36.0      44.00      61.0  \n",
       "CityTier                      1.00       1.0       3.00       3.0  \n",
       "DurationOfPitch               9.00      13.0      20.00     127.0  \n",
       "NumberOfPersonVisited         2.00       3.0       3.00       5.0  \n",
       "NumberOfFollowups             3.00       4.0       4.00       6.0  \n",
       "PreferredPropertyStar         3.00       3.0       4.00       5.0  \n",
       "NumberOfTrips                 2.00       3.0       4.00      22.0  \n",
       "Passport                      0.00       0.0       1.00       1.0  \n",
       "PitchSatisfactionScore        2.00       3.0       4.00       5.0  \n",
       "OwnCar                        0.00       1.0       1.00       1.0  \n",
       "NumberOfChildrenVisited       1.00       1.0       2.00       3.0  \n",
       "MonthlyIncome             20346.00   22347.0   25571.00   98678.0  "
      ]
     },
     "execution_count": 9,
     "metadata": {},
     "output_type": "execute_result"
    }
   ],
   "source": [
    "tour.describe().T"
   ]
  },
  {
   "cell_type": "markdown",
   "metadata": {},
   "source": [
    "- Age: Min 18 and Max 61. And is missing some values.\n",
    "- Duration of Pitch average can take 15 min\n",
    "- Customers used to travel as a group of 3 or 4 people\n",
    "- The seller tends to return contact with the customer approximately 4 times\n",
    "- Customers prefer accommodation with a score of 3 to 5.\n",
    "- Customers use to travel 3 times a year\n",
    "- More than 60% of customer own a car\n",
    "- The number of customers with children have an average of 1.18\n",
    "- Monthly income: Th monthly income range between 1k to 98k"
   ]
  },
  {
   "cell_type": "markdown",
   "metadata": {},
   "source": [
    "### Checking Missing Values"
   ]
  },
  {
   "cell_type": "code",
   "execution_count": 10,
   "metadata": {},
   "outputs": [
    {
     "data": {
      "text/html": [
       "<div>\n",
       "<style scoped>\n",
       "    .dataframe tbody tr th:only-of-type {\n",
       "        vertical-align: middle;\n",
       "    }\n",
       "\n",
       "    .dataframe tbody tr th {\n",
       "        vertical-align: top;\n",
       "    }\n",
       "\n",
       "    .dataframe thead th {\n",
       "        text-align: right;\n",
       "    }\n",
       "</style>\n",
       "<table border=\"1\" class=\"dataframe\">\n",
       "  <thead>\n",
       "    <tr style=\"text-align: right;\">\n",
       "      <th></th>\n",
       "      <th>Number of missing values</th>\n",
       "    </tr>\n",
       "  </thead>\n",
       "  <tbody>\n",
       "    <tr>\n",
       "      <th>CustomerID</th>\n",
       "      <td>0</td>\n",
       "    </tr>\n",
       "    <tr>\n",
       "      <th>ProdTaken</th>\n",
       "      <td>0</td>\n",
       "    </tr>\n",
       "    <tr>\n",
       "      <th>Age</th>\n",
       "      <td>226</td>\n",
       "    </tr>\n",
       "    <tr>\n",
       "      <th>TypeofContact</th>\n",
       "      <td>25</td>\n",
       "    </tr>\n",
       "    <tr>\n",
       "      <th>CityTier</th>\n",
       "      <td>0</td>\n",
       "    </tr>\n",
       "    <tr>\n",
       "      <th>DurationOfPitch</th>\n",
       "      <td>251</td>\n",
       "    </tr>\n",
       "    <tr>\n",
       "      <th>Occupation</th>\n",
       "      <td>0</td>\n",
       "    </tr>\n",
       "    <tr>\n",
       "      <th>Gender</th>\n",
       "      <td>0</td>\n",
       "    </tr>\n",
       "    <tr>\n",
       "      <th>NumberOfPersonVisited</th>\n",
       "      <td>0</td>\n",
       "    </tr>\n",
       "    <tr>\n",
       "      <th>NumberOfFollowups</th>\n",
       "      <td>45</td>\n",
       "    </tr>\n",
       "    <tr>\n",
       "      <th>ProductPitched</th>\n",
       "      <td>0</td>\n",
       "    </tr>\n",
       "    <tr>\n",
       "      <th>PreferredPropertyStar</th>\n",
       "      <td>26</td>\n",
       "    </tr>\n",
       "    <tr>\n",
       "      <th>MaritalStatus</th>\n",
       "      <td>0</td>\n",
       "    </tr>\n",
       "    <tr>\n",
       "      <th>NumberOfTrips</th>\n",
       "      <td>140</td>\n",
       "    </tr>\n",
       "    <tr>\n",
       "      <th>Passport</th>\n",
       "      <td>0</td>\n",
       "    </tr>\n",
       "    <tr>\n",
       "      <th>PitchSatisfactionScore</th>\n",
       "      <td>0</td>\n",
       "    </tr>\n",
       "    <tr>\n",
       "      <th>OwnCar</th>\n",
       "      <td>0</td>\n",
       "    </tr>\n",
       "    <tr>\n",
       "      <th>NumberOfChildrenVisited</th>\n",
       "      <td>66</td>\n",
       "    </tr>\n",
       "    <tr>\n",
       "      <th>Designation</th>\n",
       "      <td>0</td>\n",
       "    </tr>\n",
       "    <tr>\n",
       "      <th>MonthlyIncome</th>\n",
       "      <td>233</td>\n",
       "    </tr>\n",
       "  </tbody>\n",
       "</table>\n",
       "</div>"
      ],
      "text/plain": [
       "                         Number of missing values\n",
       "CustomerID                                      0\n",
       "ProdTaken                                       0\n",
       "Age                                           226\n",
       "TypeofContact                                  25\n",
       "CityTier                                        0\n",
       "DurationOfPitch                               251\n",
       "Occupation                                      0\n",
       "Gender                                          0\n",
       "NumberOfPersonVisited                           0\n",
       "NumberOfFollowups                              45\n",
       "ProductPitched                                  0\n",
       "PreferredPropertyStar                          26\n",
       "MaritalStatus                                   0\n",
       "NumberOfTrips                                 140\n",
       "Passport                                        0\n",
       "PitchSatisfactionScore                          0\n",
       "OwnCar                                          0\n",
       "NumberOfChildrenVisited                        66\n",
       "Designation                                     0\n",
       "MonthlyIncome                                 233"
      ]
     },
     "execution_count": 10,
     "metadata": {},
     "output_type": "execute_result"
    }
   ],
   "source": [
    "pd.DataFrame( tour.isnull().sum(), columns= ['Number of missing values'])"
   ]
  },
  {
   "cell_type": "code",
   "execution_count": 11,
   "metadata": {},
   "outputs": [],
   "source": [
    "## Replacing missing values with mean\n",
    "tour['DurationOfPitch'].fillna(tour.DurationOfPitch.mean(), inplace = True)\n",
    "tour['MonthlyIncome'].fillna(tour.MonthlyIncome.mean(), inplace = True)"
   ]
  },
  {
   "cell_type": "code",
   "execution_count": 12,
   "metadata": {},
   "outputs": [],
   "source": [
    "## Replacing missing values with median\n",
    "tour['Age'].fillna(tour.Age.median(), inplace = True)\n",
    "tour['PreferredPropertyStar'].fillna(tour.PreferredPropertyStar.median(), inplace = True)\n",
    "tour['NumberOfFollowups'].fillna(tour.NumberOfFollowups.median(), inplace = True)\n",
    "tour['NumberOfTrips'].fillna(tour.NumberOfTrips.median(), inplace = True)\n",
    "tour['NumberOfChildrenVisited'].fillna(tour.NumberOfChildrenVisited.median(), inplace = True)"
   ]
  },
  {
   "cell_type": "code",
   "execution_count": 13,
   "metadata": {},
   "outputs": [],
   "source": [
    "## Replacing missing values customized\n",
    "tour['TypeofContact'].fillna(\"Self Enquiry\", inplace = True)"
   ]
  },
  {
   "cell_type": "code",
   "execution_count": 14,
   "metadata": {},
   "outputs": [
    {
     "data": {
      "text/html": [
       "<div>\n",
       "<style scoped>\n",
       "    .dataframe tbody tr th:only-of-type {\n",
       "        vertical-align: middle;\n",
       "    }\n",
       "\n",
       "    .dataframe tbody tr th {\n",
       "        vertical-align: top;\n",
       "    }\n",
       "\n",
       "    .dataframe thead th {\n",
       "        text-align: right;\n",
       "    }\n",
       "</style>\n",
       "<table border=\"1\" class=\"dataframe\">\n",
       "  <thead>\n",
       "    <tr style=\"text-align: right;\">\n",
       "      <th></th>\n",
       "      <th>Number of missing values</th>\n",
       "    </tr>\n",
       "  </thead>\n",
       "  <tbody>\n",
       "    <tr>\n",
       "      <th>CustomerID</th>\n",
       "      <td>0</td>\n",
       "    </tr>\n",
       "    <tr>\n",
       "      <th>ProdTaken</th>\n",
       "      <td>0</td>\n",
       "    </tr>\n",
       "    <tr>\n",
       "      <th>Age</th>\n",
       "      <td>0</td>\n",
       "    </tr>\n",
       "    <tr>\n",
       "      <th>TypeofContact</th>\n",
       "      <td>0</td>\n",
       "    </tr>\n",
       "    <tr>\n",
       "      <th>CityTier</th>\n",
       "      <td>0</td>\n",
       "    </tr>\n",
       "    <tr>\n",
       "      <th>DurationOfPitch</th>\n",
       "      <td>0</td>\n",
       "    </tr>\n",
       "    <tr>\n",
       "      <th>Occupation</th>\n",
       "      <td>0</td>\n",
       "    </tr>\n",
       "    <tr>\n",
       "      <th>Gender</th>\n",
       "      <td>0</td>\n",
       "    </tr>\n",
       "    <tr>\n",
       "      <th>NumberOfPersonVisited</th>\n",
       "      <td>0</td>\n",
       "    </tr>\n",
       "    <tr>\n",
       "      <th>NumberOfFollowups</th>\n",
       "      <td>0</td>\n",
       "    </tr>\n",
       "    <tr>\n",
       "      <th>ProductPitched</th>\n",
       "      <td>0</td>\n",
       "    </tr>\n",
       "    <tr>\n",
       "      <th>PreferredPropertyStar</th>\n",
       "      <td>0</td>\n",
       "    </tr>\n",
       "    <tr>\n",
       "      <th>MaritalStatus</th>\n",
       "      <td>0</td>\n",
       "    </tr>\n",
       "    <tr>\n",
       "      <th>NumberOfTrips</th>\n",
       "      <td>0</td>\n",
       "    </tr>\n",
       "    <tr>\n",
       "      <th>Passport</th>\n",
       "      <td>0</td>\n",
       "    </tr>\n",
       "    <tr>\n",
       "      <th>PitchSatisfactionScore</th>\n",
       "      <td>0</td>\n",
       "    </tr>\n",
       "    <tr>\n",
       "      <th>OwnCar</th>\n",
       "      <td>0</td>\n",
       "    </tr>\n",
       "    <tr>\n",
       "      <th>NumberOfChildrenVisited</th>\n",
       "      <td>0</td>\n",
       "    </tr>\n",
       "    <tr>\n",
       "      <th>Designation</th>\n",
       "      <td>0</td>\n",
       "    </tr>\n",
       "    <tr>\n",
       "      <th>MonthlyIncome</th>\n",
       "      <td>0</td>\n",
       "    </tr>\n",
       "  </tbody>\n",
       "</table>\n",
       "</div>"
      ],
      "text/plain": [
       "                         Number of missing values\n",
       "CustomerID                                      0\n",
       "ProdTaken                                       0\n",
       "Age                                             0\n",
       "TypeofContact                                   0\n",
       "CityTier                                        0\n",
       "DurationOfPitch                                 0\n",
       "Occupation                                      0\n",
       "Gender                                          0\n",
       "NumberOfPersonVisited                           0\n",
       "NumberOfFollowups                               0\n",
       "ProductPitched                                  0\n",
       "PreferredPropertyStar                           0\n",
       "MaritalStatus                                   0\n",
       "NumberOfTrips                                   0\n",
       "Passport                                        0\n",
       "PitchSatisfactionScore                          0\n",
       "OwnCar                                          0\n",
       "NumberOfChildrenVisited                         0\n",
       "Designation                                     0\n",
       "MonthlyIncome                                   0"
      ]
     },
     "execution_count": 14,
     "metadata": {},
     "output_type": "execute_result"
    }
   ],
   "source": [
    "## Review Missing Values\n",
    "pd.DataFrame( tour.isnull().sum(), columns= ['Number of missing values'])"
   ]
  },
  {
   "cell_type": "code",
   "execution_count": 71,
   "metadata": {},
   "outputs": [
    {
     "data": {
      "text/html": [
       "<div>\n",
       "<style scoped>\n",
       "    .dataframe tbody tr th:only-of-type {\n",
       "        vertical-align: middle;\n",
       "    }\n",
       "\n",
       "    .dataframe tbody tr th {\n",
       "        vertical-align: top;\n",
       "    }\n",
       "\n",
       "    .dataframe thead th {\n",
       "        text-align: right;\n",
       "    }\n",
       "</style>\n",
       "<table border=\"1\" class=\"dataframe\">\n",
       "  <thead>\n",
       "    <tr style=\"text-align: right;\">\n",
       "      <th></th>\n",
       "      <th>count</th>\n",
       "      <th>mean</th>\n",
       "      <th>std</th>\n",
       "      <th>min</th>\n",
       "      <th>25%</th>\n",
       "      <th>50%</th>\n",
       "      <th>75%</th>\n",
       "      <th>max</th>\n",
       "    </tr>\n",
       "  </thead>\n",
       "  <tbody>\n",
       "    <tr>\n",
       "      <th>CustomerID</th>\n",
       "      <td>4888.0</td>\n",
       "      <td>202443.500000</td>\n",
       "      <td>1411.188388</td>\n",
       "      <td>200000.0</td>\n",
       "      <td>201221.75</td>\n",
       "      <td>202443.5</td>\n",
       "      <td>203665.25</td>\n",
       "      <td>204887.0</td>\n",
       "    </tr>\n",
       "    <tr>\n",
       "      <th>ProdTaken</th>\n",
       "      <td>4888.0</td>\n",
       "      <td>0.188216</td>\n",
       "      <td>0.390925</td>\n",
       "      <td>0.0</td>\n",
       "      <td>0.00</td>\n",
       "      <td>0.0</td>\n",
       "      <td>0.00</td>\n",
       "      <td>1.0</td>\n",
       "    </tr>\n",
       "    <tr>\n",
       "      <th>Age</th>\n",
       "      <td>4888.0</td>\n",
       "      <td>37.547259</td>\n",
       "      <td>9.104795</td>\n",
       "      <td>18.0</td>\n",
       "      <td>31.00</td>\n",
       "      <td>36.0</td>\n",
       "      <td>43.00</td>\n",
       "      <td>61.0</td>\n",
       "    </tr>\n",
       "    <tr>\n",
       "      <th>CityTier</th>\n",
       "      <td>4888.0</td>\n",
       "      <td>1.654255</td>\n",
       "      <td>0.916583</td>\n",
       "      <td>1.0</td>\n",
       "      <td>1.00</td>\n",
       "      <td>1.0</td>\n",
       "      <td>3.00</td>\n",
       "      <td>3.0</td>\n",
       "    </tr>\n",
       "    <tr>\n",
       "      <th>DurationOfPitch</th>\n",
       "      <td>4888.0</td>\n",
       "      <td>15.490835</td>\n",
       "      <td>8.297971</td>\n",
       "      <td>5.0</td>\n",
       "      <td>9.00</td>\n",
       "      <td>14.0</td>\n",
       "      <td>19.00</td>\n",
       "      <td>127.0</td>\n",
       "    </tr>\n",
       "    <tr>\n",
       "      <th>NumberOfPersonVisited</th>\n",
       "      <td>4888.0</td>\n",
       "      <td>2.905074</td>\n",
       "      <td>0.724891</td>\n",
       "      <td>1.0</td>\n",
       "      <td>2.00</td>\n",
       "      <td>3.0</td>\n",
       "      <td>3.00</td>\n",
       "      <td>5.0</td>\n",
       "    </tr>\n",
       "    <tr>\n",
       "      <th>NumberOfFollowups</th>\n",
       "      <td>4888.0</td>\n",
       "      <td>3.711129</td>\n",
       "      <td>0.998271</td>\n",
       "      <td>1.0</td>\n",
       "      <td>3.00</td>\n",
       "      <td>4.0</td>\n",
       "      <td>4.00</td>\n",
       "      <td>6.0</td>\n",
       "    </tr>\n",
       "    <tr>\n",
       "      <th>PreferredPropertyStar</th>\n",
       "      <td>4888.0</td>\n",
       "      <td>3.577946</td>\n",
       "      <td>0.797005</td>\n",
       "      <td>3.0</td>\n",
       "      <td>3.00</td>\n",
       "      <td>3.0</td>\n",
       "      <td>4.00</td>\n",
       "      <td>5.0</td>\n",
       "    </tr>\n",
       "    <tr>\n",
       "      <th>NumberOfTrips</th>\n",
       "      <td>4888.0</td>\n",
       "      <td>3.229746</td>\n",
       "      <td>1.822769</td>\n",
       "      <td>1.0</td>\n",
       "      <td>2.00</td>\n",
       "      <td>3.0</td>\n",
       "      <td>4.00</td>\n",
       "      <td>22.0</td>\n",
       "    </tr>\n",
       "    <tr>\n",
       "      <th>Passport</th>\n",
       "      <td>4888.0</td>\n",
       "      <td>0.290917</td>\n",
       "      <td>0.454232</td>\n",
       "      <td>0.0</td>\n",
       "      <td>0.00</td>\n",
       "      <td>0.0</td>\n",
       "      <td>1.00</td>\n",
       "      <td>1.0</td>\n",
       "    </tr>\n",
       "    <tr>\n",
       "      <th>PitchSatisfactionScore</th>\n",
       "      <td>4888.0</td>\n",
       "      <td>3.078151</td>\n",
       "      <td>1.365792</td>\n",
       "      <td>1.0</td>\n",
       "      <td>2.00</td>\n",
       "      <td>3.0</td>\n",
       "      <td>4.00</td>\n",
       "      <td>5.0</td>\n",
       "    </tr>\n",
       "    <tr>\n",
       "      <th>OwnCar</th>\n",
       "      <td>4888.0</td>\n",
       "      <td>0.620295</td>\n",
       "      <td>0.485363</td>\n",
       "      <td>0.0</td>\n",
       "      <td>0.00</td>\n",
       "      <td>1.0</td>\n",
       "      <td>1.00</td>\n",
       "      <td>1.0</td>\n",
       "    </tr>\n",
       "    <tr>\n",
       "      <th>NumberOfChildrenVisited</th>\n",
       "      <td>4888.0</td>\n",
       "      <td>1.184738</td>\n",
       "      <td>0.852323</td>\n",
       "      <td>0.0</td>\n",
       "      <td>1.00</td>\n",
       "      <td>1.0</td>\n",
       "      <td>2.00</td>\n",
       "      <td>3.0</td>\n",
       "    </tr>\n",
       "    <tr>\n",
       "      <th>MonthlyIncome</th>\n",
       "      <td>4888.0</td>\n",
       "      <td>23619.853491</td>\n",
       "      <td>5250.862747</td>\n",
       "      <td>1000.0</td>\n",
       "      <td>20485.00</td>\n",
       "      <td>22655.0</td>\n",
       "      <td>25424.75</td>\n",
       "      <td>98678.0</td>\n",
       "    </tr>\n",
       "  </tbody>\n",
       "</table>\n",
       "</div>"
      ],
      "text/plain": [
       "                          count           mean          std       min  \\\n",
       "CustomerID               4888.0  202443.500000  1411.188388  200000.0   \n",
       "ProdTaken                4888.0       0.188216     0.390925       0.0   \n",
       "Age                      4888.0      37.547259     9.104795      18.0   \n",
       "CityTier                 4888.0       1.654255     0.916583       1.0   \n",
       "DurationOfPitch          4888.0      15.490835     8.297971       5.0   \n",
       "NumberOfPersonVisited    4888.0       2.905074     0.724891       1.0   \n",
       "NumberOfFollowups        4888.0       3.711129     0.998271       1.0   \n",
       "PreferredPropertyStar    4888.0       3.577946     0.797005       3.0   \n",
       "NumberOfTrips            4888.0       3.229746     1.822769       1.0   \n",
       "Passport                 4888.0       0.290917     0.454232       0.0   \n",
       "PitchSatisfactionScore   4888.0       3.078151     1.365792       1.0   \n",
       "OwnCar                   4888.0       0.620295     0.485363       0.0   \n",
       "NumberOfChildrenVisited  4888.0       1.184738     0.852323       0.0   \n",
       "MonthlyIncome            4888.0   23619.853491  5250.862747    1000.0   \n",
       "\n",
       "                               25%       50%        75%       max  \n",
       "CustomerID               201221.75  202443.5  203665.25  204887.0  \n",
       "ProdTaken                     0.00       0.0       0.00       1.0  \n",
       "Age                          31.00      36.0      43.00      61.0  \n",
       "CityTier                      1.00       1.0       3.00       3.0  \n",
       "DurationOfPitch               9.00      14.0      19.00     127.0  \n",
       "NumberOfPersonVisited         2.00       3.0       3.00       5.0  \n",
       "NumberOfFollowups             3.00       4.0       4.00       6.0  \n",
       "PreferredPropertyStar         3.00       3.0       4.00       5.0  \n",
       "NumberOfTrips                 2.00       3.0       4.00      22.0  \n",
       "Passport                      0.00       0.0       1.00       1.0  \n",
       "PitchSatisfactionScore        2.00       3.0       4.00       5.0  \n",
       "OwnCar                        0.00       1.0       1.00       1.0  \n",
       "NumberOfChildrenVisited       1.00       1.0       2.00       3.0  \n",
       "MonthlyIncome             20485.00   22655.0   25424.75   98678.0  "
      ]
     },
     "execution_count": 71,
     "metadata": {},
     "output_type": "execute_result"
    }
   ],
   "source": [
    "## Check Summary to verify any significant change\n",
    "tour.describe().T"
   ]
  },
  {
   "cell_type": "markdown",
   "metadata": {},
   "source": [
    "- All columns show 4888 rows. No significant changes identified after recover missing values"
   ]
  },
  {
   "cell_type": "code",
   "execution_count": 15,
   "metadata": {},
   "outputs": [],
   "source": [
    "## Dropping columns which are not adding any information.\n",
    "tour.drop(['CustomerID'],axis=1,inplace=True)"
   ]
  },
  {
   "cell_type": "code",
   "execution_count": 16,
   "metadata": {},
   "outputs": [
    {
     "name": "stdout",
     "output_type": "stream",
     "text": [
      "0    3968\n",
      "1     920\n",
      "Name: ProdTaken, dtype: int64\n",
      "Self Enquiry       3469\n",
      "Company Invited    1419\n",
      "Name: TypeofContact, dtype: int64\n",
      "9.000000      483\n",
      "7.000000      342\n",
      "8.000000      333\n",
      "6.000000      307\n",
      "16.000000     274\n",
      "15.000000     269\n",
      "14.000000     253\n",
      "15.490835     251\n",
      "10.000000     244\n",
      "13.000000     223\n",
      "11.000000     205\n",
      "12.000000     195\n",
      "17.000000     172\n",
      "30.000000      95\n",
      "22.000000      89\n",
      "31.000000      83\n",
      "23.000000      79\n",
      "18.000000      75\n",
      "29.000000      74\n",
      "32.000000      74\n",
      "21.000000      73\n",
      "25.000000      73\n",
      "27.000000      72\n",
      "26.000000      72\n",
      "24.000000      70\n",
      "35.000000      66\n",
      "20.000000      65\n",
      "28.000000      61\n",
      "33.000000      57\n",
      "19.000000      57\n",
      "34.000000      50\n",
      "36.000000      44\n",
      "5.000000        6\n",
      "126.000000      1\n",
      "127.000000      1\n",
      "Name: DurationOfPitch, dtype: int64\n",
      "3    1478\n",
      "5     970\n",
      "1     942\n",
      "4     912\n",
      "2     586\n",
      "Name: PitchSatisfactionScore, dtype: int64\n",
      "1    3190\n",
      "3    1500\n",
      "2     198\n",
      "Name: CityTier, dtype: int64\n",
      "Salaried          2368\n",
      "Small Business    2084\n",
      "Large Business     434\n",
      "Free Lancer          2\n",
      "Name: Occupation, dtype: int64\n",
      "Male       2916\n",
      "Female     1817\n",
      "Fe Male     155\n",
      "Name: Gender, dtype: int64\n",
      "3    2402\n",
      "2    1418\n",
      "4    1026\n",
      "1      39\n",
      "5       3\n",
      "Name: NumberOfPersonVisited, dtype: int64\n",
      "4.0    2113\n",
      "3.0    1466\n",
      "5.0     768\n",
      "2.0     229\n",
      "1.0     176\n",
      "6.0     136\n",
      "Name: NumberOfFollowups, dtype: int64\n",
      "Basic           1842\n",
      "Deluxe          1732\n",
      "Standard         742\n",
      "Super Deluxe     342\n",
      "King             230\n",
      "Name: ProductPitched, dtype: int64\n",
      "3.0    3019\n",
      "5.0     956\n",
      "4.0     913\n",
      "Name: PreferredPropertyStar, dtype: int64\n",
      "Married      2340\n",
      "Divorced      950\n",
      "Single        916\n",
      "Unmarried     682\n",
      "Name: MaritalStatus, dtype: int64\n",
      "2.0     1464\n",
      "3.0     1219\n",
      "1.0      620\n",
      "4.0      478\n",
      "5.0      458\n",
      "6.0      322\n",
      "7.0      218\n",
      "8.0      105\n",
      "21.0       1\n",
      "19.0       1\n",
      "22.0       1\n",
      "20.0       1\n",
      "Name: NumberOfTrips, dtype: int64\n",
      "0    3466\n",
      "1    1422\n",
      "Name: Passport, dtype: int64\n",
      "1    3032\n",
      "0    1856\n",
      "Name: OwnCar, dtype: int64\n",
      "1.0    2146\n",
      "2.0    1335\n",
      "0.0    1082\n",
      "3.0     325\n",
      "Name: NumberOfChildrenVisited, dtype: int64\n",
      "Executive         1842\n",
      "Manager           1732\n",
      "Senior Manager     742\n",
      "AVP                342\n",
      "VP                 230\n",
      "Name: Designation, dtype: int64\n"
     ]
    }
   ],
   "source": [
    "## Count values of each columns for more observations\n",
    "print(tour.ProdTaken.value_counts())\n",
    "print(tour.TypeofContact.value_counts())\n",
    "print(tour.DurationOfPitch.value_counts())\n",
    "print(tour.PitchSatisfactionScore.value_counts())\n",
    "print(tour.CityTier.value_counts())\n",
    "print(tour.Occupation.value_counts())\n",
    "print(tour.Gender.value_counts())\n",
    "print(tour.NumberOfPersonVisited.value_counts())\n",
    "print(tour.NumberOfFollowups.value_counts())\n",
    "print(tour.ProductPitched.value_counts())\n",
    "print(tour.PreferredPropertyStar.value_counts())\n",
    "print(tour.MaritalStatus.value_counts())\n",
    "print(tour.NumberOfTrips.value_counts())\n",
    "print(tour.Passport.value_counts())\n",
    "print(tour.OwnCar.value_counts())\n",
    "print(tour.NumberOfChildrenVisited.value_counts())\n",
    "print(tour.Designation.value_counts())"
   ]
  },
  {
   "cell_type": "markdown",
   "metadata": {},
   "source": [
    "- The column Gender show duplicated value under name \"Fe Male\" > as Female\n",
    "- The column Marital Status show duplicated values under name \"Unmarried\" > as Single"
   ]
  },
  {
   "cell_type": "markdown",
   "metadata": {},
   "source": [
    "### Fixing Column Gender and Marital Status"
   ]
  },
  {
   "cell_type": "code",
   "execution_count": 17,
   "metadata": {},
   "outputs": [
    {
     "name": "stdout",
     "output_type": "stream",
     "text": [
      "Male      2916\n",
      "Female    1972\n",
      "Name: Gender, dtype: int64\n"
     ]
    }
   ],
   "source": [
    "conditions = [\n",
    "    (tour[\"Gender\"] == 'Fe Male'),\n",
    "    (tour[\"Gender\"] == 'Female'),\n",
    "    (tour[\"Gender\"] == 'Male'),\n",
    "    ]\n",
    "values = ['Female', 'Female', 'Male']\n",
    "tour['Gender'] = np.select(conditions, values)\n",
    "print(tour.Gender.value_counts())"
   ]
  },
  {
   "cell_type": "code",
   "execution_count": 18,
   "metadata": {},
   "outputs": [
    {
     "name": "stdout",
     "output_type": "stream",
     "text": [
      "Married     2340\n",
      "Single      1598\n",
      "Divorced     950\n",
      "Name: MaritalStatus, dtype: int64\n"
     ]
    }
   ],
   "source": [
    "conditions = [\n",
    "    (tour[\"MaritalStatus\"] == 'Married'),\n",
    "    (tour[\"MaritalStatus\"] == 'Divorced'),\n",
    "    (tour[\"MaritalStatus\"] == 'Single'),\n",
    "    (tour[\"MaritalStatus\"] == 'Unmarried'),\n",
    "    ]\n",
    "values = ['Married', 'Divorced', 'Single','Single']\n",
    "tour['MaritalStatus'] = np.select(conditions, values)\n",
    "print(tour.MaritalStatus.value_counts())"
   ]
  },
  {
   "cell_type": "markdown",
   "metadata": {},
   "source": [
    "### EDA: Univariate analysis"
   ]
  },
  {
   "cell_type": "code",
   "execution_count": 76,
   "metadata": {},
   "outputs": [],
   "source": [
    "#Building boxplot and histogram for any input numerical variable.\n",
    "\n",
    "def histogram_boxplot(feature, figsize=(15,10), bins = None):\n",
    "    \"\"\" Boxplot and histogram combined\n",
    "    feature: 1-d feature array\n",
    "    figsize: size of fig (default (9,8))\n",
    "    bins: number of bins (default None / auto)\n",
    "    \"\"\"\n",
    "    f2, (ax_box2, ax_hist2) = plt.subplots(nrows = 2, # Number of rows of the subplot grid= 2\n",
    "                                           sharex = True, # x-axis will be shared among all subplots\n",
    "                                           gridspec_kw = {\"height_ratios\": (.25, .75)}, \n",
    "                                           figsize = figsize \n",
    "                                           ) # creating the 2 subplots\n",
    "    sns.boxplot(feature, ax=ax_box2, showmeans=True, color='violet') # boxplot will be created and a star will indicate the mean value of the column\n",
    "    sns.distplot(feature, kde=F, ax=ax_hist2, bins=bins,palette=\"winter\") if bins else sns.distplot(feature, kde=False, ax=ax_hist2) # For histogram\n",
    "    ax_hist2.axvline(np.mean(feature), color='green', linestyle='--') # Add mean to the histogram\n",
    "    ax_hist2.axvline(np.median(feature), color='black', linestyle='-') # Add median to the histogram"
   ]
  },
  {
   "cell_type": "code",
   "execution_count": 137,
   "metadata": {},
   "outputs": [
    {
     "data": {
      "image/png": "[encoded data removed]",
      "text/plain": [
       "<Figure size 1080x720 with 2 Axes>"
      ]
     },
     "metadata": {
      "needs_background": "light"
     },
     "output_type": "display_data"
    }
   ],
   "source": [
    "# Observations on Monthly Income\n",
    "histogram_boxplot(tour['MonthlyIncome'])"
   ]
  },
  {
   "cell_type": "markdown",
   "metadata": {},
   "source": [
    "- There are outliers in the distribution os this variables.\n",
    "- This variable is concentrated."
   ]
  },
  {
   "cell_type": "code",
   "execution_count": 191,
   "metadata": {},
   "outputs": [
    {
     "data": {
      "image/png": "[encoded data removed]",
      "text/plain": [
       "<Figure size 1080x720 with 2 Axes>"
      ]
     },
     "metadata": {},
     "output_type": "display_data"
    }
   ],
   "source": [
    "histogram_boxplot(tour['NumberOfTrips'])"
   ]
  },
  {
   "cell_type": "markdown",
   "metadata": {},
   "source": [
    "- Distribution is not symmetric but mean and median are approx 3\n",
    "- There are few outliers in this variable"
   ]
  },
  {
   "cell_type": "code",
   "execution_count": 292,
   "metadata": {},
   "outputs": [],
   "source": [
    "## Function to create barplots that indicate percentage for each category\n",
    "def perc_on_bar(feature):\n",
    "    '''\n",
    "    plot\n",
    "    feature: categorical feature\n",
    "    the function won't work if a column is passed in hue parameter\n",
    "    '''\n",
    "    #Creating a countplot for the feature\n",
    "    sns.set(rc={'figure.figsize':(8,5)})\n",
    "    ax=sns.countplot(x=feature, data=data)\n",
    "    \n",
    "    total = len(feature) # length of the column\n",
    "    for p in ax.patches:\n",
    "        percentage = '{:.1f}%'.format(100 * p.get_height()/total) # percentage of each class of the category\n",
    "        x = p.get_x() + p.get_width() / 2 - 0.25 # width of the plot\n",
    "        y = p.get_y() + p.get_height()           # hieght of the plot\n",
    "        ax.annotate(percentage, (x, y), size = 12) # annotate the percantage \n",
    "        \n",
    "    plt.show() # show the plot\n"
   ]
  },
  {
   "cell_type": "code",
   "execution_count": 293,
   "metadata": {},
   "outputs": [
    {
     "data": {
      "image/png": "[encoded data removed]",
      "text/plain": [
       "<Figure size 576x360 with 1 Axes>"
      ]
     },
     "metadata": {},
     "output_type": "display_data"
    }
   ],
   "source": [
    "perc_on_bar(tour['ProdTaken'])"
   ]
  },
  {
   "cell_type": "markdown",
   "metadata": {},
   "source": [
    "- 18% of the customers in this data purchased the packages offered by the company"
   ]
  },
  {
   "cell_type": "code",
   "execution_count": 194,
   "metadata": {},
   "outputs": [
    {
     "data": {
      "image/png": "[encoded data removed]",
      "text/plain": [
       "<Figure size 576x360 with 1 Axes>"
      ]
     },
     "metadata": {},
     "output_type": "display_data"
    }
   ],
   "source": [
    "perc_on_bar(tour['CityTier'])"
   ]
  },
  {
   "cell_type": "markdown",
   "metadata": {},
   "source": [
    "- City Tier 1 shows that 65.3% of the customers are located in cities densely populated and have higher living expenses."
   ]
  },
  {
   "cell_type": "code",
   "execution_count": 195,
   "metadata": {},
   "outputs": [
    {
     "data": {
      "image/png": "[encoded data removed]",
      "text/plain": [
       "<Figure size 576x360 with 1 Axes>"
      ]
     },
     "metadata": {},
     "output_type": "display_data"
    }
   ],
   "source": [
    "perc_on_bar(tour['Occupation'])"
   ]
  },
  {
   "cell_type": "markdown",
   "metadata": {},
   "source": [
    "- 48.4% of the customers are salaried, while 42.6% work on Small Business  "
   ]
  },
  {
   "cell_type": "code",
   "execution_count": 196,
   "metadata": {},
   "outputs": [
    {
     "data": {
      "image/png": "[encoded data removed]",
      "text/plain": [
       "<Figure size 576x360 with 1 Axes>"
      ]
     },
     "metadata": {},
     "output_type": "display_data"
    }
   ],
   "source": [
    "perc_on_bar(tour['TypeofContact'])"
   ]
  },
  {
   "cell_type": "markdown",
   "metadata": {},
   "source": [
    "- Normally the customer look for this service confirmed by 71% of Type of Contact is Self Enquiry"
   ]
  },
  {
   "cell_type": "code",
   "execution_count": 197,
   "metadata": {},
   "outputs": [
    {
     "data": {
      "image/png": "[encoded data removed]",
      "text/plain": [
       "<Figure size 576x360 with 1 Axes>"
      ]
     },
     "metadata": {},
     "output_type": "display_data"
    }
   ],
   "source": [
    "perc_on_bar(tour['Gender'])"
   ]
  },
  {
   "cell_type": "markdown",
   "metadata": {},
   "source": [
    "- Male customers are 59.7%, while Female are 40.3%"
   ]
  },
  {
   "cell_type": "code",
   "execution_count": 198,
   "metadata": {},
   "outputs": [
    {
     "data": {
      "image/png": "[encoded data removed]",
      "text/plain": [
       "<Figure size 576x360 with 1 Axes>"
      ]
     },
     "metadata": {},
     "output_type": "display_data"
    }
   ],
   "source": [
    "perc_on_bar(tour['NumberOfPersonVisited'])"
   ]
  },
  {
   "cell_type": "markdown",
   "metadata": {},
   "source": [
    "- Normally 3 people are involved in the same trip. "
   ]
  },
  {
   "cell_type": "code",
   "execution_count": 199,
   "metadata": {},
   "outputs": [
    {
     "data": {
      "image/png": "[encoded data removed]",
      "text/plain": [
       "<Figure size 576x360 with 1 Axes>"
      ]
     },
     "metadata": {},
     "output_type": "display_data"
    }
   ],
   "source": [
    "perc_on_bar(tour['NumberOfFollowups'])"
   ]
  },
  {
   "cell_type": "markdown",
   "metadata": {},
   "source": [
    "- Normally a salesperson contact the customer around 4 times. "
   ]
  },
  {
   "cell_type": "code",
   "execution_count": 200,
   "metadata": {},
   "outputs": [
    {
     "data": {
      "image/png": "[encoded data removed]",
      "text/plain": [
       "<Figure size 576x360 with 1 Axes>"
      ]
     },
     "metadata": {},
     "output_type": "display_data"
    }
   ],
   "source": [
    "perc_on_bar(tour['ProductPitched'])"
   ]
  },
  {
   "cell_type": "markdown",
   "metadata": {},
   "source": [
    "- The company offer 5 types of packages when the Basic is the most sold, fallowed by Deluxe and Standard"
   ]
  },
  {
   "cell_type": "code",
   "execution_count": 201,
   "metadata": {},
   "outputs": [
    {
     "data": {
      "image/png": "[encoded data removed]",
      "text/plain": [
       "<Figure size 576x360 with 1 Axes>"
      ]
     },
     "metadata": {},
     "output_type": "display_data"
    }
   ],
   "source": [
    "perc_on_bar(tour['PreferredPropertyStar'])"
   ]
  },
  {
   "cell_type": "markdown",
   "metadata": {},
   "source": [
    "- 61.8% of the customer stay in hotels under category 3. "
   ]
  },
  {
   "cell_type": "code",
   "execution_count": 202,
   "metadata": {},
   "outputs": [
    {
     "data": {
      "image/png": "[encoded data removed]",
      "text/plain": [
       "<Figure size 576x360 with 1 Axes>"
      ]
     },
     "metadata": {},
     "output_type": "display_data"
    }
   ],
   "source": [
    "perc_on_bar(tour['NumberOfTrips'])"
   ]
  },
  {
   "cell_type": "markdown",
   "metadata": {},
   "source": [
    "- 30% of the customer use to travel 2 times a year, but 24.9% travel 3 times a year."
   ]
  },
  {
   "cell_type": "code",
   "execution_count": 203,
   "metadata": {},
   "outputs": [
    {
     "data": {
      "image/png": "[encoded data removed]",
      "text/plain": [
       "<Figure size 576x360 with 1 Axes>"
      ]
     },
     "metadata": {},
     "output_type": "display_data"
    }
   ],
   "source": [
    "perc_on_bar(tour['Passport'])"
   ]
  },
  {
   "cell_type": "markdown",
   "metadata": {},
   "source": [
    "- 70.9% of the customer dont have passport."
   ]
  },
  {
   "cell_type": "code",
   "execution_count": 205,
   "metadata": {},
   "outputs": [
    {
     "data": {
      "image/png": "[encoded data removed]",
      "text/plain": [
       "<Figure size 576x360 with 1 Axes>"
      ]
     },
     "metadata": {},
     "output_type": "display_data"
    }
   ],
   "source": [
    "perc_on_bar(tour['OwnCar'])"
   ]
  },
  {
   "cell_type": "markdown",
   "metadata": {},
   "source": [
    "- 62% of the clients own a car"
   ]
  },
  {
   "cell_type": "markdown",
   "metadata": {},
   "source": [
    "### EDA: Bivariate analysis"
   ]
  },
  {
   "cell_type": "code",
   "execution_count": 19,
   "metadata": {},
   "outputs": [],
   "source": [
    "## Function to plot stacked bar chart\n",
    "# The intention is to verify the correlation between the population that purchased any package with all other values\n",
    "def stacked_plot(x):\n",
    "    sns.set(palette='coolwarm')\n",
    "    tab1 = pd.crosstab(x,tour['ProdTaken'],margins=True)\n",
    "    print(tab1)\n",
    "    print('-'*120)\n",
    "    tab = pd.crosstab(x,tour['ProdTaken'],normalize='index')\n",
    "    tab.plot(kind='bar',stacked=True,figsize=(10,5))\n",
    "    #plt.legend(loc='lower left', frameon=False)\n",
    "    #plt.legend(loc=\"upper left\", bbox_to_anchor=(0,1))\n",
    "    plt.show()"
   ]
  },
  {
   "cell_type": "code",
   "execution_count": 295,
   "metadata": {},
   "outputs": [
    {
     "name": "stdout",
     "output_type": "stream",
     "text": [
      "ProdTaken     0    1   All\n",
      "Age                       \n",
      "18.0          6    8    14\n",
      "19.0         11   21    32\n",
      "20.0         13   25    38\n",
      "21.0         18   23    41\n",
      "22.0         31   15    46\n",
      "23.0         33   13    46\n",
      "24.0         38   18    56\n",
      "25.0         54   20    74\n",
      "26.0         69   37   106\n",
      "27.0        108   30   138\n",
      "28.0        121   26   147\n",
      "29.0        121   57   178\n",
      "30.0        151   48   199\n",
      "31.0        162   41   203\n",
      "32.0        157   40   197\n",
      "33.0        149   40   189\n",
      "34.0        167   44   211\n",
      "35.0        203   34   237\n",
      "36.0        386   71   457\n",
      "37.0        161   24   185\n",
      "38.0        161   15   176\n",
      "39.0        136   14   150\n",
      "40.0        123   23   146\n",
      "41.0        131   24   155\n",
      "42.0        122   20   142\n",
      "43.0        120   10   130\n",
      "44.0         88   17   105\n",
      "45.0         98   18   116\n",
      "46.0        110   11   121\n",
      "47.0         76   12    88\n",
      "48.0         54   11    65\n",
      "49.0         56    9    65\n",
      "50.0         74   12    86\n",
      "51.0         73   17    90\n",
      "52.0         54   14    68\n",
      "53.0         58    8    66\n",
      "54.0         59    2    61\n",
      "55.0         57    7    64\n",
      "56.0         46   12    58\n",
      "57.0         24    5    29\n",
      "58.0         20   11    31\n",
      "59.0         32   12    44\n",
      "60.0         28    1    29\n",
      "61.0          9    0     9\n",
      "All        3968  920  4888\n",
      "------------------------------------------------------------------------------------------------------------------------\n"
     ]
    },
    {
     "data": {
      "image/png": "[encoded data removed]",
      "text/plain": [
       "<Figure size 720x360 with 1 Axes>"
      ]
     },
     "metadata": {},
     "output_type": "display_data"
    }
   ],
   "source": [
    "# Checking the Age of the population that purchased a package\n",
    "stacked_plot(tour['Age'])"
   ]
  },
  {
   "cell_type": "markdown",
   "metadata": {},
   "source": [
    "- The clients most likely to buy tour packages are young population range 19 to 30 years old"
   ]
  },
  {
   "cell_type": "code",
   "execution_count": 296,
   "metadata": {},
   "outputs": [
    {
     "name": "stdout",
     "output_type": "stream",
     "text": [
      "ProdTaken           0    1   All\n",
      "TypeofContact                   \n",
      "Company Invited  1109  310  1419\n",
      "Self Enquiry     2859  610  3469\n",
      "All              3968  920  4888\n",
      "------------------------------------------------------------------------------------------------------------------------\n"
     ]
    },
    {
     "data": {
      "image/png": "[encoded data removed]",
      "text/plain": [
       "<Figure size 720x360 with 1 Axes>"
      ]
     },
     "metadata": {},
     "output_type": "display_data"
    }
   ],
   "source": [
    "# Checking the relation of Type of Contact and purchased completed in the past\n",
    "stacked_plot(tour['TypeofContact'])"
   ]
  },
  {
   "cell_type": "code",
   "execution_count": 297,
   "metadata": {},
   "outputs": [
    {
     "name": "stdout",
     "output_type": "stream",
     "text": [
      "ProdTaken          0    1   All\n",
      "Designation                    \n",
      "AVP              322   20   342\n",
      "Executive       1290  552  1842\n",
      "Manager         1528  204  1732\n",
      "Senior Manager   618  124   742\n",
      "VP               210   20   230\n",
      "All             3968  920  4888\n",
      "------------------------------------------------------------------------------------------------------------------------\n"
     ]
    },
    {
     "data": {
      "image/png": "[encoded data removed]",
      "text/plain": [
       "<Figure size 720x360 with 1 Axes>"
      ]
     },
     "metadata": {},
     "output_type": "display_data"
    }
   ],
   "source": [
    "# Checking the relation between Designation and  Prod purchased.\n",
    "stacked_plot(tour['Designation'])"
   ]
  },
  {
   "cell_type": "markdown",
   "metadata": {},
   "source": [
    "- Executives and Senior Managers are the population interested in to travel\n"
   ]
  },
  {
   "cell_type": "code",
   "execution_count": 209,
   "metadata": {},
   "outputs": [
    {
     "name": "stdout",
     "output_type": "stream",
     "text": [
      "ProdTaken                 0    1   All\n",
      "NumberOfPersonVisited                 \n",
      "1                        39    0    39\n",
      "2                      1151  267  1418\n",
      "3                      1942  460  2402\n",
      "4                       833  193  1026\n",
      "5                         3    0     3\n",
      "All                    3968  920  4888\n",
      "------------------------------------------------------------------------------------------------------------------------\n"
     ]
    },
    {
     "data": {
      "image/png": "[encoded data removed]",
      "text/plain": [
       "<Figure size 720x360 with 1 Axes>"
      ]
     },
     "metadata": {},
     "output_type": "display_data"
    }
   ],
   "source": [
    "# Checking the relation between Numbe rOf Person Visited and Prod purchased.\n",
    "stacked_plot(tour['NumberOfPersonVisited'])"
   ]
  },
  {
   "cell_type": "code",
   "execution_count": 210,
   "metadata": {},
   "outputs": [
    {
     "name": "stdout",
     "output_type": "stream",
     "text": [
      "ProdTaken         0    1   All\n",
      "MaritalStatus                 \n",
      "Divorced        826  124   950\n",
      "Married        2014  326  2340\n",
      "Single         1128  470  1598\n",
      "All            3968  920  4888\n",
      "------------------------------------------------------------------------------------------------------------------------\n"
     ]
    },
    {
     "data": {
      "image/png": "[encoded data removed]",
      "text/plain": [
       "<Figure size 720x360 with 1 Axes>"
      ]
     },
     "metadata": {},
     "output_type": "display_data"
    }
   ],
   "source": [
    "# Checking the relation between Marital Status and Prod purchased.\n",
    "stacked_plot(tour['MaritalStatus'])"
   ]
  },
  {
   "cell_type": "markdown",
   "metadata": {},
   "source": [
    "- Singles used to purchase more travel packages"
   ]
  },
  {
   "cell_type": "code",
   "execution_count": 211,
   "metadata": {},
   "outputs": [
    {
     "name": "stdout",
     "output_type": "stream",
     "text": [
      "ProdTaken     0    1   All\n",
      "OwnCar                    \n",
      "0          1496  360  1856\n",
      "1          2472  560  3032\n",
      "All        3968  920  4888\n",
      "------------------------------------------------------------------------------------------------------------------------\n"
     ]
    },
    {
     "data": {
      "image/png": "[encoded data removed]",
      "text/plain": [
       "<Figure size 720x360 with 1 Axes>"
      ]
     },
     "metadata": {},
     "output_type": "display_data"
    }
   ],
   "source": [
    "# Checking the relation between Own car and Prod purchased.\n",
    "stacked_plot(tour['OwnCar'])"
   ]
  },
  {
   "cell_type": "markdown",
   "metadata": {},
   "source": [
    "- The population with car purchased more packages than the population without car, but is not so significant."
   ]
  },
  {
   "cell_type": "code",
   "execution_count": 212,
   "metadata": {},
   "outputs": [
    {
     "name": "stdout",
     "output_type": "stream",
     "text": [
      "ProdTaken                   0    1   All\n",
      "NumberOfChildrenVisited                 \n",
      "0.0                       880  202  1082\n",
      "1.0                      1747  399  2146\n",
      "2.0                      1082  253  1335\n",
      "3.0                       259   66   325\n",
      "All                      3968  920  4888\n",
      "------------------------------------------------------------------------------------------------------------------------\n"
     ]
    },
    {
     "data": {
      "image/png": "[encoded data removed]",
      "text/plain": [
       "<Figure size 720x360 with 1 Axes>"
      ]
     },
     "metadata": {},
     "output_type": "display_data"
    }
   ],
   "source": [
    "# Checking the relation between Number Of Children Visited and Prod purchased.\n",
    "stacked_plot(tour['NumberOfChildrenVisited'])"
   ]
  },
  {
   "cell_type": "markdown",
   "metadata": {},
   "source": [
    "- The number of children visited does not influence the final purchase decision."
   ]
  },
  {
   "cell_type": "code",
   "execution_count": 213,
   "metadata": {},
   "outputs": [
    {
     "name": "stdout",
     "output_type": "stream",
     "text": [
      "ProdTaken          0    1   All\n",
      "Occupation                     \n",
      "Free Lancer        0    2     2\n",
      "Large Business   314  120   434\n",
      "Salaried        1954  414  2368\n",
      "Small Business  1700  384  2084\n",
      "All             3968  920  4888\n",
      "------------------------------------------------------------------------------------------------------------------------\n"
     ]
    },
    {
     "data": {
      "image/png": "[encoded data removed]",
      "text/plain": [
       "<Figure size 720x360 with 1 Axes>"
      ]
     },
     "metadata": {},
     "output_type": "display_data"
    }
   ],
   "source": [
    "# Checking the relation between Occupation and Prod purchased.\n",
    "stacked_plot(tour['Occupation'])"
   ]
  },
  {
   "cell_type": "markdown",
   "metadata": {},
   "source": [
    "#### Ocupation tend to purchase travel packages: \n",
    "    - 100% of Free Lancer\n",
    "    - 38.21% of Large Business\n",
    "    - 21.18% of Salaried\n",
    "    - 22.58% of Small Business"
   ]
  },
  {
   "cell_type": "code",
   "execution_count": 214,
   "metadata": {},
   "outputs": [
    {
     "name": "stdout",
     "output_type": "stream",
     "text": [
      "ProdTaken     0    1   All\n",
      "CityTier                  \n",
      "1          2670  520  3190\n",
      "2           152   46   198\n",
      "3          1146  354  1500\n",
      "All        3968  920  4888\n",
      "------------------------------------------------------------------------------------------------------------------------\n"
     ]
    },
    {
     "data": {
      "image/png": "[encoded data removed]",
      "text/plain": [
       "<Figure size 720x360 with 1 Axes>"
      ]
     },
     "metadata": {},
     "output_type": "display_data"
    }
   ],
   "source": [
    "# Checking the relation between CityTier and Prod purchased.\n",
    "stacked_plot(tour['CityTier'])"
   ]
  },
  {
   "cell_type": "markdown",
   "metadata": {},
   "source": [
    "- Most of the customers that purchased travel packages located in City Tier 3"
   ]
  },
  {
   "cell_type": "code",
   "execution_count": 215,
   "metadata": {},
   "outputs": [
    {
     "name": "stdout",
     "output_type": "stream",
     "text": [
      "ProdTaken          0    1   All\n",
      "ProductPitched                 \n",
      "Basic           1290  552  1842\n",
      "Deluxe          1528  204  1732\n",
      "King             210   20   230\n",
      "Standard         618  124   742\n",
      "Super Deluxe     322   20   342\n",
      "All             3968  920  4888\n",
      "------------------------------------------------------------------------------------------------------------------------\n"
     ]
    },
    {
     "data": {
      "image/png": "[encoded data removed]",
      "text/plain": [
       "<Figure size 720x360 with 1 Axes>"
      ]
     },
     "metadata": {},
     "output_type": "display_data"
    }
   ],
   "source": [
    "# Checking the relation between Product Pitched and Prod purchased.\n",
    "stacked_plot(tour['ProductPitched'])"
   ]
  },
  {
   "cell_type": "markdown",
   "metadata": {},
   "source": [
    "- The Basic package was the best seller followed by the Deluxe package."
   ]
  },
  {
   "cell_type": "code",
   "execution_count": 20,
   "metadata": {},
   "outputs": [
    {
     "name": "stdout",
     "output_type": "stream",
     "text": [
      "ProdTaken              0    1   All\n",
      "DurationOfPitch                    \n",
      "5.0                    6    0     6\n",
      "6.0                  268   39   307\n",
      "7.0                  294   48   342\n",
      "8.0                  273   60   333\n",
      "9.0                  404   79   483\n",
      "10.0                 199   45   244\n",
      "11.0                 168   37   205\n",
      "12.0                 162   33   195\n",
      "13.0                 191   32   223\n",
      "14.0                 212   41   253\n",
      "15.0                 217   52   269\n",
      "15.490834591330602   206   45   251\n",
      "16.0                 218   56   274\n",
      "17.0                 148   24   172\n",
      "18.0                  56   19    75\n",
      "19.0                  36   21    57\n",
      "20.0                  46   19    65\n",
      "21.0                  57   16    73\n",
      "22.0                  66   23    89\n",
      "23.0                  58   21    79\n",
      "24.0                  54   16    70\n",
      "25.0                  59   14    73\n",
      "26.0                  60   12    72\n",
      "27.0                  58   14    72\n",
      "28.0                  44   17    61\n",
      "29.0                  53   21    74\n",
      "30.0                  65   30    95\n",
      "31.0                  52   31    83\n",
      "32.0                  59   15    74\n",
      "33.0                  46   11    57\n",
      "34.0                  42    8    50\n",
      "35.0                  55   11    66\n",
      "36.0                  34   10    44\n",
      "126.0                  1    0     1\n",
      "127.0                  1    0     1\n",
      "All                 3968  920  4888\n",
      "------------------------------------------------------------------------------------------------------------------------\n"
     ]
    },
    {
     "data": {
      "image/png": "[encoded data removed]",
      "text/plain": [
       "<Figure size 720x360 with 1 Axes>"
      ]
     },
     "metadata": {},
     "output_type": "display_data"
    }
   ],
   "source": [
    "stacked_plot(tour['DurationOfPitch'])"
   ]
  },
  {
   "cell_type": "markdown",
   "metadata": {},
   "source": [
    "- 19 to 30 minutes is the time duration of the pitch when the client decided to purchase a package"
   ]
  },
  {
   "cell_type": "code",
   "execution_count": 216,
   "metadata": {},
   "outputs": [
    {
     "name": "stdout",
     "output_type": "stream",
     "text": [
      "ProdTaken             0    1   All\n",
      "NumberOfFollowups                 \n",
      "1.0                 156   20   176\n",
      "2.0                 205   24   229\n",
      "3.0                1222  244  1466\n",
      "4.0                1726  387  2113\n",
      "5.0                 577  191   768\n",
      "6.0                  82   54   136\n",
      "All                3968  920  4888\n",
      "------------------------------------------------------------------------------------------------------------------------\n"
     ]
    },
    {
     "data": {
      "image/png": "[encoded data removed]",
      "text/plain": [
       "<Figure size 720x360 with 1 Axes>"
      ]
     },
     "metadata": {},
     "output_type": "display_data"
    }
   ],
   "source": [
    "# Checking the relation between Product Pitched and Prod purchased.\n",
    "stacked_plot(tour['NumberOfFollowups'])"
   ]
  },
  {
   "cell_type": "code",
   "execution_count": 298,
   "metadata": {},
   "outputs": [
    {
     "data": {
      "image/png": "[encoded data removed]",
      "text/plain": [
       "<Figure size 1152x720 with 1 Axes>"
      ]
     },
     "metadata": {},
     "output_type": "display_data"
    }
   ],
   "source": [
    "sns.set(rc={'figure.figsize':(16,10)})\n",
    "sns.heatmap(tour.corr(),\n",
    "            annot=True,\n",
    "            linewidths=.5,\n",
    "            center=0,\n",
    "            cbar=False,\n",
    "            cmap=\"YlGnBu\")\n",
    "plt.show()"
   ]
  },
  {
   "cell_type": "markdown",
   "metadata": {},
   "source": [
    "- We can see the Prod Taken shows balanced relationship with all values\n",
    "- Number of Person visitid has good relationship  with number of Chilren visited\n",
    "- The passport shows the ability of the customer to travel internally. Since data shows a low population with passport the relationship between passport and the Number of Trip is low.\n",
    "- Age and Monthly Income show good relationship\n"
   ]
  },
  {
   "cell_type": "markdown",
   "metadata": {},
   "source": [
    "### Replace Structure"
   ]
  },
  {
   "cell_type": "code",
   "execution_count": 21,
   "metadata": {},
   "outputs": [],
   "source": [
    "replaceStruct = {\n",
    "                \"ProductPitched\": {\"Basic\":1, \"Deluxe\":2, \"Standard\":3, \"Super Deluxe\":4, \"King\":5},\n",
    "                \"Designation\": { \"Executive\":1, \"Manager\":2, \"Senior Manager\":3, \"AVP\":4, \"VP\":5}\n",
    "                    }\n",
    "oneHotCols=[\"TypeofContact\",\"Occupation\",\"Gender\",\"ProductPitched\",\"MaritalStatus\",\"Designation\"]\n"
   ]
  },
  {
   "cell_type": "code",
   "execution_count": 22,
   "metadata": {},
   "outputs": [
    {
     "data": {
      "text/html": [
       "<div>\n",
       "<style scoped>\n",
       "    .dataframe tbody tr th:only-of-type {\n",
       "        vertical-align: middle;\n",
       "    }\n",
       "\n",
       "    .dataframe tbody tr th {\n",
       "        vertical-align: top;\n",
       "    }\n",
       "\n",
       "    .dataframe thead th {\n",
       "        text-align: right;\n",
       "    }\n",
       "</style>\n",
       "<table border=\"1\" class=\"dataframe\">\n",
       "  <thead>\n",
       "    <tr style=\"text-align: right;\">\n",
       "      <th></th>\n",
       "      <th>ProdTaken</th>\n",
       "      <th>Age</th>\n",
       "      <th>CityTier</th>\n",
       "      <th>DurationOfPitch</th>\n",
       "      <th>NumberOfPersonVisited</th>\n",
       "      <th>NumberOfFollowups</th>\n",
       "      <th>PreferredPropertyStar</th>\n",
       "      <th>NumberOfTrips</th>\n",
       "      <th>Passport</th>\n",
       "      <th>PitchSatisfactionScore</th>\n",
       "      <th>...</th>\n",
       "      <th>ProductPitched_4</th>\n",
       "      <th>ProductPitched_5</th>\n",
       "      <th>MaritalStatus_Divorced</th>\n",
       "      <th>MaritalStatus_Married</th>\n",
       "      <th>MaritalStatus_Single</th>\n",
       "      <th>Designation_1</th>\n",
       "      <th>Designation_2</th>\n",
       "      <th>Designation_3</th>\n",
       "      <th>Designation_4</th>\n",
       "      <th>Designation_5</th>\n",
       "    </tr>\n",
       "  </thead>\n",
       "  <tbody>\n",
       "    <tr>\n",
       "      <th>0</th>\n",
       "      <td>1</td>\n",
       "      <td>41.0</td>\n",
       "      <td>3</td>\n",
       "      <td>6.0</td>\n",
       "      <td>3</td>\n",
       "      <td>3.0</td>\n",
       "      <td>3.0</td>\n",
       "      <td>1.0</td>\n",
       "      <td>1</td>\n",
       "      <td>2</td>\n",
       "      <td>...</td>\n",
       "      <td>0</td>\n",
       "      <td>0</td>\n",
       "      <td>0</td>\n",
       "      <td>0</td>\n",
       "      <td>1</td>\n",
       "      <td>0</td>\n",
       "      <td>1</td>\n",
       "      <td>0</td>\n",
       "      <td>0</td>\n",
       "      <td>0</td>\n",
       "    </tr>\n",
       "    <tr>\n",
       "      <th>1</th>\n",
       "      <td>0</td>\n",
       "      <td>49.0</td>\n",
       "      <td>1</td>\n",
       "      <td>14.0</td>\n",
       "      <td>3</td>\n",
       "      <td>4.0</td>\n",
       "      <td>4.0</td>\n",
       "      <td>2.0</td>\n",
       "      <td>0</td>\n",
       "      <td>3</td>\n",
       "      <td>...</td>\n",
       "      <td>0</td>\n",
       "      <td>0</td>\n",
       "      <td>1</td>\n",
       "      <td>0</td>\n",
       "      <td>0</td>\n",
       "      <td>0</td>\n",
       "      <td>1</td>\n",
       "      <td>0</td>\n",
       "      <td>0</td>\n",
       "      <td>0</td>\n",
       "    </tr>\n",
       "    <tr>\n",
       "      <th>2</th>\n",
       "      <td>1</td>\n",
       "      <td>37.0</td>\n",
       "      <td>1</td>\n",
       "      <td>8.0</td>\n",
       "      <td>3</td>\n",
       "      <td>4.0</td>\n",
       "      <td>3.0</td>\n",
       "      <td>7.0</td>\n",
       "      <td>1</td>\n",
       "      <td>3</td>\n",
       "      <td>...</td>\n",
       "      <td>0</td>\n",
       "      <td>0</td>\n",
       "      <td>0</td>\n",
       "      <td>0</td>\n",
       "      <td>1</td>\n",
       "      <td>1</td>\n",
       "      <td>0</td>\n",
       "      <td>0</td>\n",
       "      <td>0</td>\n",
       "      <td>0</td>\n",
       "    </tr>\n",
       "    <tr>\n",
       "      <th>3</th>\n",
       "      <td>0</td>\n",
       "      <td>33.0</td>\n",
       "      <td>1</td>\n",
       "      <td>9.0</td>\n",
       "      <td>2</td>\n",
       "      <td>3.0</td>\n",
       "      <td>3.0</td>\n",
       "      <td>2.0</td>\n",
       "      <td>1</td>\n",
       "      <td>5</td>\n",
       "      <td>...</td>\n",
       "      <td>0</td>\n",
       "      <td>0</td>\n",
       "      <td>1</td>\n",
       "      <td>0</td>\n",
       "      <td>0</td>\n",
       "      <td>1</td>\n",
       "      <td>0</td>\n",
       "      <td>0</td>\n",
       "      <td>0</td>\n",
       "      <td>0</td>\n",
       "    </tr>\n",
       "    <tr>\n",
       "      <th>4</th>\n",
       "      <td>0</td>\n",
       "      <td>36.0</td>\n",
       "      <td>1</td>\n",
       "      <td>8.0</td>\n",
       "      <td>2</td>\n",
       "      <td>3.0</td>\n",
       "      <td>4.0</td>\n",
       "      <td>1.0</td>\n",
       "      <td>0</td>\n",
       "      <td>5</td>\n",
       "      <td>...</td>\n",
       "      <td>0</td>\n",
       "      <td>0</td>\n",
       "      <td>1</td>\n",
       "      <td>0</td>\n",
       "      <td>0</td>\n",
       "      <td>1</td>\n",
       "      <td>0</td>\n",
       "      <td>0</td>\n",
       "      <td>0</td>\n",
       "      <td>0</td>\n",
       "    </tr>\n",
       "    <tr>\n",
       "      <th>5</th>\n",
       "      <td>0</td>\n",
       "      <td>32.0</td>\n",
       "      <td>1</td>\n",
       "      <td>8.0</td>\n",
       "      <td>3</td>\n",
       "      <td>3.0</td>\n",
       "      <td>3.0</td>\n",
       "      <td>1.0</td>\n",
       "      <td>0</td>\n",
       "      <td>5</td>\n",
       "      <td>...</td>\n",
       "      <td>0</td>\n",
       "      <td>0</td>\n",
       "      <td>0</td>\n",
       "      <td>0</td>\n",
       "      <td>1</td>\n",
       "      <td>1</td>\n",
       "      <td>0</td>\n",
       "      <td>0</td>\n",
       "      <td>0</td>\n",
       "      <td>0</td>\n",
       "    </tr>\n",
       "    <tr>\n",
       "      <th>6</th>\n",
       "      <td>0</td>\n",
       "      <td>59.0</td>\n",
       "      <td>1</td>\n",
       "      <td>9.0</td>\n",
       "      <td>2</td>\n",
       "      <td>2.0</td>\n",
       "      <td>5.0</td>\n",
       "      <td>5.0</td>\n",
       "      <td>1</td>\n",
       "      <td>2</td>\n",
       "      <td>...</td>\n",
       "      <td>0</td>\n",
       "      <td>0</td>\n",
       "      <td>1</td>\n",
       "      <td>0</td>\n",
       "      <td>0</td>\n",
       "      <td>1</td>\n",
       "      <td>0</td>\n",
       "      <td>0</td>\n",
       "      <td>0</td>\n",
       "      <td>0</td>\n",
       "    </tr>\n",
       "    <tr>\n",
       "      <th>7</th>\n",
       "      <td>0</td>\n",
       "      <td>30.0</td>\n",
       "      <td>1</td>\n",
       "      <td>30.0</td>\n",
       "      <td>3</td>\n",
       "      <td>3.0</td>\n",
       "      <td>3.0</td>\n",
       "      <td>2.0</td>\n",
       "      <td>0</td>\n",
       "      <td>2</td>\n",
       "      <td>...</td>\n",
       "      <td>0</td>\n",
       "      <td>0</td>\n",
       "      <td>0</td>\n",
       "      <td>1</td>\n",
       "      <td>0</td>\n",
       "      <td>1</td>\n",
       "      <td>0</td>\n",
       "      <td>0</td>\n",
       "      <td>0</td>\n",
       "      <td>0</td>\n",
       "    </tr>\n",
       "    <tr>\n",
       "      <th>8</th>\n",
       "      <td>0</td>\n",
       "      <td>38.0</td>\n",
       "      <td>1</td>\n",
       "      <td>29.0</td>\n",
       "      <td>2</td>\n",
       "      <td>4.0</td>\n",
       "      <td>3.0</td>\n",
       "      <td>1.0</td>\n",
       "      <td>0</td>\n",
       "      <td>3</td>\n",
       "      <td>...</td>\n",
       "      <td>0</td>\n",
       "      <td>0</td>\n",
       "      <td>0</td>\n",
       "      <td>0</td>\n",
       "      <td>1</td>\n",
       "      <td>0</td>\n",
       "      <td>0</td>\n",
       "      <td>1</td>\n",
       "      <td>0</td>\n",
       "      <td>0</td>\n",
       "    </tr>\n",
       "    <tr>\n",
       "      <th>9</th>\n",
       "      <td>0</td>\n",
       "      <td>36.0</td>\n",
       "      <td>1</td>\n",
       "      <td>33.0</td>\n",
       "      <td>3</td>\n",
       "      <td>3.0</td>\n",
       "      <td>3.0</td>\n",
       "      <td>7.0</td>\n",
       "      <td>0</td>\n",
       "      <td>3</td>\n",
       "      <td>...</td>\n",
       "      <td>0</td>\n",
       "      <td>0</td>\n",
       "      <td>1</td>\n",
       "      <td>0</td>\n",
       "      <td>0</td>\n",
       "      <td>0</td>\n",
       "      <td>1</td>\n",
       "      <td>0</td>\n",
       "      <td>0</td>\n",
       "      <td>0</td>\n",
       "    </tr>\n",
       "  </tbody>\n",
       "</table>\n",
       "<p>10 rows × 34 columns</p>\n",
       "</div>"
      ],
      "text/plain": [
       "   ProdTaken   Age  CityTier  DurationOfPitch  NumberOfPersonVisited  \\\n",
       "0          1  41.0         3              6.0                      3   \n",
       "1          0  49.0         1             14.0                      3   \n",
       "2          1  37.0         1              8.0                      3   \n",
       "3          0  33.0         1              9.0                      2   \n",
       "4          0  36.0         1              8.0                      2   \n",
       "5          0  32.0         1              8.0                      3   \n",
       "6          0  59.0         1              9.0                      2   \n",
       "7          0  30.0         1             30.0                      3   \n",
       "8          0  38.0         1             29.0                      2   \n",
       "9          0  36.0         1             33.0                      3   \n",
       "\n",
       "   NumberOfFollowups  PreferredPropertyStar  NumberOfTrips  Passport  \\\n",
       "0                3.0                    3.0            1.0         1   \n",
       "1                4.0                    4.0            2.0         0   \n",
       "2                4.0                    3.0            7.0         1   \n",
       "3                3.0                    3.0            2.0         1   \n",
       "4                3.0                    4.0            1.0         0   \n",
       "5                3.0                    3.0            1.0         0   \n",
       "6                2.0                    5.0            5.0         1   \n",
       "7                3.0                    3.0            2.0         0   \n",
       "8                4.0                    3.0            1.0         0   \n",
       "9                3.0                    3.0            7.0         0   \n",
       "\n",
       "   PitchSatisfactionScore  ...  ProductPitched_4  ProductPitched_5  \\\n",
       "0                       2  ...                 0                 0   \n",
       "1                       3  ...                 0                 0   \n",
       "2                       3  ...                 0                 0   \n",
       "3                       5  ...                 0                 0   \n",
       "4                       5  ...                 0                 0   \n",
       "5                       5  ...                 0                 0   \n",
       "6                       2  ...                 0                 0   \n",
       "7                       2  ...                 0                 0   \n",
       "8                       3  ...                 0                 0   \n",
       "9                       3  ...                 0                 0   \n",
       "\n",
       "   MaritalStatus_Divorced  MaritalStatus_Married  MaritalStatus_Single  \\\n",
       "0                       0                      0                     1   \n",
       "1                       1                      0                     0   \n",
       "2                       0                      0                     1   \n",
       "3                       1                      0                     0   \n",
       "4                       1                      0                     0   \n",
       "5                       0                      0                     1   \n",
       "6                       1                      0                     0   \n",
       "7                       0                      1                     0   \n",
       "8                       0                      0                     1   \n",
       "9                       1                      0                     0   \n",
       "\n",
       "   Designation_1  Designation_2  Designation_3  Designation_4  Designation_5  \n",
       "0              0              1              0              0              0  \n",
       "1              0              1              0              0              0  \n",
       "2              1              0              0              0              0  \n",
       "3              1              0              0              0              0  \n",
       "4              1              0              0              0              0  \n",
       "5              1              0              0              0              0  \n",
       "6              1              0              0              0              0  \n",
       "7              1              0              0              0              0  \n",
       "8              0              0              1              0              0  \n",
       "9              0              1              0              0              0  \n",
       "\n",
       "[10 rows x 34 columns]"
      ]
     },
     "execution_count": 22,
     "metadata": {},
     "output_type": "execute_result"
    }
   ],
   "source": [
    "tour=tour.replace(replaceStruct)\n",
    "tour=pd.get_dummies(tour, columns=oneHotCols)\n",
    "tour.head(10)"
   ]
  },
  {
   "cell_type": "code",
   "execution_count": 79,
   "metadata": {
    "scrolled": true
   },
   "outputs": [
    {
     "name": "stdout",
     "output_type": "stream",
     "text": [
      "<class 'pandas.core.frame.DataFrame'>\n",
      "RangeIndex: 4888 entries, 0 to 4887\n",
      "Data columns (total 34 columns):\n",
      "ProdTaken                        4888 non-null int64\n",
      "Age                              4888 non-null float64\n",
      "CityTier                         4888 non-null int64\n",
      "DurationOfPitch                  4888 non-null float64\n",
      "NumberOfPersonVisited            4888 non-null int64\n",
      "NumberOfFollowups                4888 non-null float64\n",
      "PreferredPropertyStar            4888 non-null float64\n",
      "NumberOfTrips                    4888 non-null float64\n",
      "Passport                         4888 non-null int64\n",
      "PitchSatisfactionScore           4888 non-null int64\n",
      "OwnCar                           4888 non-null int64\n",
      "NumberOfChildrenVisited          4888 non-null float64\n",
      "MonthlyIncome                    4888 non-null float64\n",
      "TypeofContact_Company Invited    4888 non-null uint8\n",
      "TypeofContact_Self Enquiry       4888 non-null uint8\n",
      "Occupation_Free Lancer           4888 non-null uint8\n",
      "Occupation_Large Business        4888 non-null uint8\n",
      "Occupation_Salaried              4888 non-null uint8\n",
      "Occupation_Small Business        4888 non-null uint8\n",
      "Gender_Female                    4888 non-null uint8\n",
      "Gender_Male                      4888 non-null uint8\n",
      "ProductPitched_1                 4888 non-null uint8\n",
      "ProductPitched_2                 4888 non-null uint8\n",
      "ProductPitched_3                 4888 non-null uint8\n",
      "ProductPitched_4                 4888 non-null uint8\n",
      "ProductPitched_5                 4888 non-null uint8\n",
      "MaritalStatus_Divorced           4888 non-null uint8\n",
      "MaritalStatus_Married            4888 non-null uint8\n",
      "MaritalStatus_Single             4888 non-null uint8\n",
      "Designation_1                    4888 non-null uint8\n",
      "Designation_2                    4888 non-null uint8\n",
      "Designation_3                    4888 non-null uint8\n",
      "Designation_4                    4888 non-null uint8\n",
      "Designation_5                    4888 non-null uint8\n",
      "dtypes: float64(7), int64(6), uint8(21)\n",
      "memory usage: 596.8 KB\n"
     ]
    }
   ],
   "source": [
    "tour.info()"
   ]
  },
  {
   "cell_type": "markdown",
   "metadata": {},
   "source": [
    "### Split the data into train and test sets"
   ]
  },
  {
   "cell_type": "code",
   "execution_count": 23,
   "metadata": {},
   "outputs": [],
   "source": [
    "X = tour.drop(\"ProdTaken\" , axis=1)\n",
    "y = tour.pop(\"ProdTaken\")"
   ]
  },
  {
   "cell_type": "code",
   "execution_count": 24,
   "metadata": {},
   "outputs": [],
   "source": [
    "X_train, X_test, y_train, y_test = train_test_split(X, y, test_size=.30, random_state=1,stratify=y)"
   ]
  },
  {
   "cell_type": "code",
   "execution_count": 25,
   "metadata": {},
   "outputs": [
    {
     "data": {
      "text/plain": [
       "((3421, 33), (1467, 33))"
      ]
     },
     "execution_count": 25,
     "metadata": {},
     "output_type": "execute_result"
    }
   ],
   "source": [
    "X_train.shape, X_test.shape"
   ]
  },
  {
   "cell_type": "markdown",
   "metadata": {},
   "source": [
    "- We have 3421 observations in the train set and 1467 observations in the test set."
   ]
  },
  {
   "cell_type": "code",
   "execution_count": 22,
   "metadata": {},
   "outputs": [
    {
     "data": {
      "text/plain": [
       "0    0.811784\n",
       "1    0.188216\n",
       "Name: ProdTaken, dtype: float64"
      ]
     },
     "execution_count": 22,
     "metadata": {},
     "output_type": "execute_result"
    }
   ],
   "source": [
    "y.value_counts(1)"
   ]
  },
  {
   "cell_type": "code",
   "execution_count": 23,
   "metadata": {},
   "outputs": [
    {
     "data": {
      "text/plain": [
       "0    0.811861\n",
       "1    0.188139\n",
       "Name: ProdTaken, dtype: float64"
      ]
     },
     "execution_count": 23,
     "metadata": {},
     "output_type": "execute_result"
    }
   ],
   "source": [
    "y_test.value_counts(1)"
   ]
  },
  {
   "cell_type": "markdown",
   "metadata": {},
   "source": [
    "## Building Models Part I - Bagging\n",
    "- Decision Tree\n",
    "- Bagging Classifier\n",
    "- Random Forest"
   ]
  },
  {
   "cell_type": "markdown",
   "metadata": {},
   "source": [
    "### Model evaluation criterion \n",
    "\n",
    "Based in our goal:\n",
    "- True Hit is the customer that will purchase the item\n",
    "- False Negative is the customer that was targeted but will not purchase the item.\n"
   ]
  },
  {
   "cell_type": "markdown",
   "metadata": {},
   "source": [
    "### Calculate Accuracy, Recall & Precision, and plot the confusion matrix"
   ]
  },
  {
   "cell_type": "code",
   "execution_count": 24,
   "metadata": {},
   "outputs": [],
   "source": [
    "##  Function to calculate accuracy score\n",
    "def get_accuracy_score(model,flag=True):\n",
    "    '''\n",
    "    model : classifier to predict values of X\n",
    "\n",
    "    '''\n",
    "    c = [] # defining an empty list to store train and test results\n",
    "    train_acc = model.score(X_train,y_train)\n",
    "    test_acc = model.score(X_test,y_test)\n",
    "    c.append(train_acc) # adding train accuracy to list\n",
    "    c.append(test_acc) # adding test accuracy to list\n",
    "    if flag == True: # If the flag is set to True then only the following print statements will be dispayed\n",
    "        print(\"Accuracy on training set : \",model.score(X_train,y_train))\n",
    "        print(\"Accuracy on test set : \",model.score(X_test,y_test))\n",
    "    \n",
    "    return c # returning the list with train and test scores"
   ]
  },
  {
   "cell_type": "code",
   "execution_count": 25,
   "metadata": {},
   "outputs": [],
   "source": [
    "##  Function to calculate recall score - Minimize False Positive\n",
    "def get_recall_score(model,flag=True):\n",
    "    '''\n",
    "    model : classifier to predict values of X\n",
    "\n",
    "    '''\n",
    "    a = [] # defining an empty list to store train and test results\n",
    "    pred_train = model.predict(X_train)\n",
    "    pred_test = model.predict(X_test)\n",
    "    train_recall = metrics.recall_score(y_train,pred_train)\n",
    "    test_recall = metrics.recall_score(y_test,pred_test)\n",
    "    a.append(train_recall) # adding train recall to list \n",
    "    a.append(test_recall) # adding test recall to list\n",
    "    if flag == True: # If the flag is set to True then only the following print statements will be dispayed\n",
    "        print(\"Recall on training set : \",metrics.recall_score(y_train,pred_train))\n",
    "        print(\"Recall on test set : \",metrics.recall_score(y_test,pred_test))\n",
    "    \n",
    "    return a # returning the list with train and test scores\n"
   ]
  },
  {
   "cell_type": "code",
   "execution_count": 26,
   "metadata": {},
   "outputs": [],
   "source": [
    "##  Function to calculate precision score\n",
    "def get_precision_score(model,flag=True):\n",
    "    '''\n",
    "    model : classifier to predict values of X\n",
    "\n",
    "    '''\n",
    "    b = []  # defining an empty list to store train and test results\n",
    "    pred_train = model.predict(X_train)\n",
    "    pred_test = model.predict(X_test)\n",
    "    train_precision = metrics.precision_score(y_train,pred_train)\n",
    "    test_precision = metrics.precision_score(y_test,pred_test)\n",
    "    b.append(train_precision) # adding train precision to list\n",
    "    b.append(test_precision) # adding test precision to list\n",
    "    if flag == True: # If the flag is set to True then only the following print statements will be dispayed\n",
    "        print(\"Precision on training set : \",metrics.precision_score(y_train,pred_train))\n",
    "        print(\"Precision on test set : \",metrics.precision_score(y_test,pred_test))\n",
    "\n",
    "    return b # returning the list with train and test scores"
   ]
  },
  {
   "cell_type": "code",
   "execution_count": 27,
   "metadata": {},
   "outputs": [],
   "source": [
    "## Function to create confusion matrix\n",
    "def make_confusion_matrix(model,y_actual,labels=[1, 0]):\n",
    "    '''\n",
    "    model : classifier to predict values of X\n",
    "    y_actual : ground truth  \n",
    "    \n",
    "    '''\n",
    "    y_predict = model.predict(X_test)\n",
    "    cm=metrics.confusion_matrix( y_actual, y_predict, labels=[0, 1])\n",
    "    df_cm = pd.DataFrame(cm, index = [i for i in [\"Actual - No\",\"Actual - Yes\"]],\n",
    "                  columns = [i for i in ['Predicted - No','Predicted - Yes']])\n",
    "    group_counts = [\"{0:0.0f}\".format(value) for value in\n",
    "                cm.flatten()]\n",
    "    group_percentages = [\"{0:.2%}\".format(value) for value in\n",
    "                         cm.flatten()/np.sum(cm)]\n",
    "    labels = [f\"{v1}\\n{v2}\" for v1, v2 in\n",
    "              zip(group_counts,group_percentages)]\n",
    "    labels = np.asarray(labels).reshape(2,2)\n",
    "    plt.figure(figsize = (10,7))\n",
    "    sns.heatmap(df_cm, annot=labels,fmt='')\n",
    "    plt.ylabel('True label')\n",
    "    plt.xlabel('Predicted label')"
   ]
  },
  {
   "cell_type": "markdown",
   "metadata": {},
   "source": [
    "### 1. Decision Tree Model "
   ]
  },
  {
   "cell_type": "code",
   "execution_count": 28,
   "metadata": {},
   "outputs": [],
   "source": [
    "dtree = DecisionTreeClassifier(criterion='gini',class_weight={0:0.19,1:0.81},random_state=1)"
   ]
  },
  {
   "cell_type": "code",
   "execution_count": 29,
   "metadata": {},
   "outputs": [
    {
     "data": {
      "text/plain": [
       "DecisionTreeClassifier(class_weight={0: 0.19, 1: 0.81}, criterion='gini',\n",
       "                       max_depth=None, max_features=None, max_leaf_nodes=None,\n",
       "                       min_impurity_decrease=0.0, min_impurity_split=None,\n",
       "                       min_samples_leaf=1, min_samples_split=2,\n",
       "                       min_weight_fraction_leaf=0.0, presort=False,\n",
       "                       random_state=1, splitter='best')"
      ]
     },
     "execution_count": 29,
     "metadata": {},
     "output_type": "execute_result"
    }
   ],
   "source": [
    "dtree.fit(X_train, y_train)"
   ]
  },
  {
   "cell_type": "code",
   "execution_count": 30,
   "metadata": {},
   "outputs": [
    {
     "data": {
      "image/png": "[encoded data removed]",
      "text/plain": [
       "<Figure size 720x504 with 2 Axes>"
      ]
     },
     "metadata": {
      "needs_background": "light"
     },
     "output_type": "display_data"
    }
   ],
   "source": [
    "make_confusion_matrix(dtree,y_test)"
   ]
  },
  {
   "cell_type": "markdown",
   "metadata": {},
   "source": [
    "- Tota correct prediction in this model is 89.64%\n",
    "- False Negative: 4.98%. Number of customers expected to buy the product, but ended up not buying."
   ]
  },
  {
   "cell_type": "code",
   "execution_count": 31,
   "metadata": {},
   "outputs": [
    {
     "name": "stdout",
     "output_type": "stream",
     "text": [
      "Accuracy on training set :  1.0\n",
      "Accuracy on test set :  0.896387184730743\n",
      "Recall on training set :  1.0\n",
      "Recall on test set :  0.7355072463768116\n",
      "Precision on training set :  1.0\n",
      "Precision on test set :  0.7198581560283688\n"
     ]
    }
   ],
   "source": [
    "dtree_acc = get_accuracy_score(dtree)\n",
    "dtree_recall = get_recall_score(dtree)\n",
    "dtree_precision = get_precision_score(dtree)"
   ]
  },
  {
   "cell_type": "markdown",
   "metadata": {},
   "source": [
    "- Your model is overfitting your training data because the model performs well on the training data but does not perform as the same on the test data. We can try to improve this performance."
   ]
  },
  {
   "cell_type": "markdown",
   "metadata": {},
   "source": [
    "### 2. Bagging Classifier"
   ]
  },
  {
   "cell_type": "code",
   "execution_count": 32,
   "metadata": {},
   "outputs": [
    {
     "data": {
      "text/plain": [
       "BaggingClassifier(base_estimator=None, bootstrap=True, bootstrap_features=False,\n",
       "                  max_features=1.0, max_samples=1.0, n_estimators=10,\n",
       "                  n_jobs=None, oob_score=False, random_state=1, verbose=0,\n",
       "                  warm_start=False)"
      ]
     },
     "execution_count": 32,
     "metadata": {},
     "output_type": "execute_result"
    }
   ],
   "source": [
    "bagging = BaggingClassifier(random_state=1)\n",
    "bagging.fit(X_train,y_train)"
   ]
  },
  {
   "cell_type": "code",
   "execution_count": 33,
   "metadata": {
    "scrolled": true
   },
   "outputs": [
    {
     "data": {
      "image/png": "[encoded data removed]",
      "text/plain": [
       "<Figure size 720x504 with 2 Axes>"
      ]
     },
     "metadata": {
      "needs_background": "light"
     },
     "output_type": "display_data"
    }
   ],
   "source": [
    "make_confusion_matrix(bagging,y_test)"
   ]
  },
  {
   "cell_type": "markdown",
   "metadata": {},
   "source": [
    "- Total correct prediction in this model is 90.80%\n",
    "- False Negative rate is 7.50%. Number of customers expected to buy the product, but ended up not buying."
   ]
  },
  {
   "cell_type": "code",
   "execution_count": 34,
   "metadata": {},
   "outputs": [
    {
     "name": "stdout",
     "output_type": "stream",
     "text": [
      "Accuracy on training set :  0.994153756211634\n",
      "Accuracy on test set :  0.9079754601226994\n",
      "Recall on training set :  0.9720496894409938\n",
      "Recall on test set :  0.6014492753623188\n",
      "Precision on training set :  0.9968152866242038\n",
      "Precision on test set :  0.8691099476439791\n"
     ]
    }
   ],
   "source": [
    "bagging_acc = get_accuracy_score(bagging)\n",
    "bagging_recall = get_recall_score(bagging)\n",
    "bagging_precision = get_precision_score(bagging)"
   ]
  },
  {
   "cell_type": "markdown",
   "metadata": {},
   "source": [
    "- Bagging classifier is overfitting on the training set and is performing poorly on the test set in terms of recall. Accuracy is high on Bagging Classifier"
   ]
  },
  {
   "cell_type": "markdown",
   "metadata": {},
   "source": [
    "### Bagging Classifier with weighted decision tree"
   ]
  },
  {
   "cell_type": "code",
   "execution_count": 35,
   "metadata": {},
   "outputs": [
    {
     "data": {
      "text/plain": [
       "BaggingClassifier(base_estimator=DecisionTreeClassifier(class_weight={0: 0.19,\n",
       "                                                                      1: 0.81},\n",
       "                                                        criterion='gini',\n",
       "                                                        max_depth=None,\n",
       "                                                        max_features=None,\n",
       "                                                        max_leaf_nodes=None,\n",
       "                                                        min_impurity_decrease=0.0,\n",
       "                                                        min_impurity_split=None,\n",
       "                                                        min_samples_leaf=1,\n",
       "                                                        min_samples_split=2,\n",
       "                                                        min_weight_fraction_leaf=0.0,\n",
       "                                                        presort=False,\n",
       "                                                        random_state=1,\n",
       "                                                        splitter='best'),\n",
       "                  bootstrap=True, bootstrap_features=False, max_features=1.0,\n",
       "                  max_samples=1.0, n_estimators=10, n_jobs=None,\n",
       "                  oob_score=False, random_state=1, verbose=0, warm_start=False)"
      ]
     },
     "execution_count": 35,
     "metadata": {},
     "output_type": "execute_result"
    }
   ],
   "source": [
    "bagging_wt = BaggingClassifier(base_estimator=DecisionTreeClassifier(criterion='gini',class_weight={0:0.19,1:0.81},random_state=1),random_state=1)\n",
    "bagging_wt.fit(X_train,y_train)"
   ]
  },
  {
   "cell_type": "code",
   "execution_count": 36,
   "metadata": {
    "scrolled": true
   },
   "outputs": [
    {
     "data": {
      "image/png": "[encoded data removed]",
      "text/plain": [
       "<Figure size 720x504 with 2 Axes>"
      ]
     },
     "metadata": {
      "needs_background": "light"
     },
     "output_type": "display_data"
    }
   ],
   "source": [
    "make_confusion_matrix(bagging_wt,y_test)"
   ]
  },
  {
   "cell_type": "code",
   "execution_count": 37,
   "metadata": {},
   "outputs": [
    {
     "name": "stdout",
     "output_type": "stream",
     "text": [
      "Accuracy on training set :  0.9947383805904706\n",
      "Accuracy on test set :  0.9093387866394002\n",
      "Recall on training set :  0.9751552795031055\n",
      "Recall on test set :  0.5869565217391305\n",
      "Precision on training set :  0.9968253968253968\n",
      "Precision on test set :  0.8950276243093923\n"
     ]
    }
   ],
   "source": [
    "wt_bagging_acc = get_accuracy_score(bagging_wt)\n",
    "wt_bagging_recall = get_recall_score(bagging_wt)\n",
    "wt_bagging_precision = get_precision_score(bagging_wt)"
   ]
  },
  {
   "cell_type": "markdown",
   "metadata": {},
   "source": [
    "- Bagging classifier with a weighted decision tree is an alternative to improve the model. Here is giving good accuracy of 90.93% and prediction but is not able to generalize well on test data in terms of recall. "
   ]
  },
  {
   "cell_type": "markdown",
   "metadata": {},
   "source": [
    "### Random Forest Classifier"
   ]
  },
  {
   "cell_type": "code",
   "execution_count": 38,
   "metadata": {
    "scrolled": true
   },
   "outputs": [
    {
     "data": {
      "text/plain": [
       "RandomForestClassifier(bootstrap=True, class_weight=None, criterion='gini',\n",
       "                       max_depth=None, max_features='auto', max_leaf_nodes=None,\n",
       "                       min_impurity_decrease=0.0, min_impurity_split=None,\n",
       "                       min_samples_leaf=1, min_samples_split=2,\n",
       "                       min_weight_fraction_leaf=0.0, n_estimators=10,\n",
       "                       n_jobs=None, oob_score=False, random_state=1, verbose=0,\n",
       "                       warm_start=False)"
      ]
     },
     "execution_count": 38,
     "metadata": {},
     "output_type": "execute_result"
    }
   ],
   "source": [
    "#Train the random forest classifier\n",
    "rf = RandomForestClassifier(random_state=1)\n",
    "rf.fit(X_train,y_train)"
   ]
  },
  {
   "cell_type": "code",
   "execution_count": 39,
   "metadata": {},
   "outputs": [
    {
     "data": {
      "image/png": "[encoded data removed]",
      "text/plain": [
       "<Figure size 720x504 with 2 Axes>"
      ]
     },
     "metadata": {
      "needs_background": "light"
     },
     "output_type": "display_data"
    }
   ],
   "source": [
    "make_confusion_matrix(rf,y_test)"
   ]
  },
  {
   "cell_type": "code",
   "execution_count": 40,
   "metadata": {},
   "outputs": [
    {
     "name": "stdout",
     "output_type": "stream",
     "text": [
      "Accuracy on training set :  0.9944460684010523\n",
      "Accuracy on test set :  0.9052488070892979\n",
      "Recall on training set :  0.9720496894409938\n",
      "Recall on test set :  0.5579710144927537\n",
      "Precision on training set :  0.9984051036682615\n",
      "Precision on test set :  0.9005847953216374\n"
     ]
    }
   ],
   "source": [
    "rf_acc = get_accuracy_score(rf)\n",
    "rf_recall = get_recall_score(rf)\n",
    "rf_precision = get_precision_score(rf)"
   ]
  },
  {
   "cell_type": "markdown",
   "metadata": {},
   "source": [
    "- Random Forest has performed well in terms of accuracy and precision, but is running poorly on the Recall test data. Also we can see overfitting data."
   ]
  },
  {
   "cell_type": "markdown",
   "metadata": {},
   "source": [
    "### Random forest with class weights"
   ]
  },
  {
   "cell_type": "code",
   "execution_count": 41,
   "metadata": {
    "scrolled": true
   },
   "outputs": [
    {
     "data": {
      "text/plain": [
       "RandomForestClassifier(bootstrap=True, class_weight={0: 0.19, 1: 0.81},\n",
       "                       criterion='gini', max_depth=None, max_features='auto',\n",
       "                       max_leaf_nodes=None, min_impurity_decrease=0.0,\n",
       "                       min_impurity_split=None, min_samples_leaf=1,\n",
       "                       min_samples_split=2, min_weight_fraction_leaf=0.0,\n",
       "                       n_estimators=10, n_jobs=None, oob_score=False,\n",
       "                       random_state=1, verbose=0, warm_start=False)"
      ]
     },
     "execution_count": 41,
     "metadata": {},
     "output_type": "execute_result"
    }
   ],
   "source": [
    "rf_wt = RandomForestClassifier(class_weight={0:0.19,1:0.81}, random_state=1)\n",
    "rf_wt.fit(X_train,y_train)"
   ]
  },
  {
   "cell_type": "code",
   "execution_count": 42,
   "metadata": {
    "scrolled": true
   },
   "outputs": [
    {
     "data": {
      "image/png": "[encoded data removed]",
      "text/plain": [
       "<Figure size 720x504 with 2 Axes>"
      ]
     },
     "metadata": {
      "needs_background": "light"
     },
     "output_type": "display_data"
    }
   ],
   "source": [
    "make_confusion_matrix(rf_wt,y_test)"
   ]
  },
  {
   "cell_type": "code",
   "execution_count": 43,
   "metadata": {},
   "outputs": [
    {
     "name": "stdout",
     "output_type": "stream",
     "text": [
      "Accuracy on training set :  0.9944460684010523\n",
      "Accuracy on test set :  0.8936605316973415\n",
      "Recall on training set :  0.9704968944099379\n",
      "Recall on test set :  0.4855072463768116\n",
      "Precision on training set :  1.0\n",
      "Precision on test set :  0.9054054054054054\n"
     ]
    }
   ],
   "source": [
    "wt_rf_acc = get_accuracy_score(rf_wt)\n",
    "wt_rf_recall = get_recall_score(rf_wt)\n",
    "wt_rf_precision = get_precision_score(rf_wt)"
   ]
  },
  {
   "cell_type": "markdown",
   "metadata": {},
   "source": [
    "- Weighted Random Forest does not add many improvements. The recall test actually decreases if compared to the unweighted random forest."
   ]
  },
  {
   "cell_type": "markdown",
   "metadata": {},
   "source": [
    "## Check Tuning Models - Using GridSearch for Hyperparameter"
   ]
  },
  {
   "cell_type": "markdown",
   "metadata": {},
   "source": [
    "- Models so far could performance better, let's try tuning to open the possibility of the model shows better performance\n",
    "- Lets use the Grid search to compute the optimum values of hyperparameters. "
   ]
  },
  {
   "cell_type": "markdown",
   "metadata": {},
   "source": [
    "### Tuning Decision Tree"
   ]
  },
  {
   "cell_type": "code",
   "execution_count": 44,
   "metadata": {},
   "outputs": [],
   "source": [
    "from sklearn.model_selection import GridSearchCV"
   ]
  },
  {
   "cell_type": "code",
   "execution_count": 45,
   "metadata": {},
   "outputs": [
    {
     "data": {
      "text/plain": [
       "DecisionTreeClassifier(class_weight={0: 0.19, 1: 0.81}, criterion='gini',\n",
       "                       max_depth=2, max_features=None, max_leaf_nodes=5,\n",
       "                       min_impurity_decrease=0.0001, min_impurity_split=None,\n",
       "                       min_samples_leaf=1, min_samples_split=2,\n",
       "                       min_weight_fraction_leaf=0.0, presort=False,\n",
       "                       random_state=1, splitter='best')"
      ]
     },
     "execution_count": 45,
     "metadata": {},
     "output_type": "execute_result"
    }
   ],
   "source": [
    "# Choose the type of classifier. \n",
    "dtree_estimator = DecisionTreeClassifier(class_weight={0:0.19,1:0.81},random_state=1)\n",
    "\n",
    "# Grid of parameters to choose from\n",
    "parameters = {'max_depth': np.arange(2,30), \n",
    "              'min_samples_leaf': [1, 2, 5, 7, 10],\n",
    "              'max_leaf_nodes' : [2, 3, 5, 10,15],\n",
    "              'min_impurity_decrease': [0.0001,0.001,0.01,0.1]\n",
    "             }\n",
    "\n",
    "# Type of scoring used to compare parameter combinations\n",
    "scorer = metrics.make_scorer(metrics.recall_score)\n",
    "\n",
    "# Run the grid search\n",
    "grid_obj = GridSearchCV(dtree_estimator, parameters, scoring=scorer)\n",
    "grid_obj = grid_obj.fit(X_train, y_train)\n",
    "\n",
    "# Set the clf to the best combination of parameters\n",
    "dtree_estimator = grid_obj.best_estimator_\n",
    "\n",
    "# Fit the best algorithm to the data. \n",
    "dtree_estimator.fit(X_train, y_train)"
   ]
  },
  {
   "cell_type": "code",
   "execution_count": 46,
   "metadata": {
    "scrolled": true
   },
   "outputs": [
    {
     "data": {
      "image/png": "[encoded data removed]",
      "text/plain": [
       "<Figure size 720x504 with 2 Axes>"
      ]
     },
     "metadata": {
      "needs_background": "light"
     },
     "output_type": "display_data"
    }
   ],
   "source": [
    "make_confusion_matrix(dtree_estimator,y_test)"
   ]
  },
  {
   "cell_type": "code",
   "execution_count": 47,
   "metadata": {},
   "outputs": [
    {
     "name": "stdout",
     "output_type": "stream",
     "text": [
      "Accuracy on training set :  0.5811166325635779\n",
      "Accuracy on test set :  0.5753237900477164\n",
      "Recall on training set :  0.7639751552795031\n",
      "Recall on test set :  0.7898550724637681\n",
      "Precision on training set :  0.27749576988155666\n",
      "Precision on test set :  0.2784163473818646\n"
     ]
    }
   ],
   "source": [
    "tuned_dtree_acc = get_accuracy_score(dtree_estimator)\n",
    "tuned_dtree_recall = get_recall_score(dtree_estimator)\n",
    "tuned_dtree_precision = get_precision_score(dtree_estimator)"
   ]
  },
  {
   "cell_type": "markdown",
   "metadata": {},
   "source": [
    "- This model is showing that Test Data and Training Data are close to each other, which proves good efficiency."
   ]
  },
  {
   "cell_type": "markdown",
   "metadata": {},
   "source": [
    "### Tuning Bagging Classifier"
   ]
  },
  {
   "cell_type": "code",
   "execution_count": 48,
   "metadata": {},
   "outputs": [
    {
     "data": {
      "text/plain": [
       "GridSearchCV(cv=5, error_score='raise-deprecating',\n",
       "             estimator=BaggingClassifier(base_estimator=None, bootstrap=True,\n",
       "                                         bootstrap_features=False,\n",
       "                                         max_features=1.0, max_samples=1.0,\n",
       "                                         n_estimators=10, n_jobs=None,\n",
       "                                         oob_score=False, random_state=1,\n",
       "                                         verbose=0, warm_start=False),\n",
       "             iid='warn', n_jobs=None,\n",
       "             param_grid={'base_estimator': [DecisionTreeClassifier(class_weight={0:...\n",
       "                                                                   max_features=None,\n",
       "                                                                   max_leaf_nodes=None,\n",
       "                                                                   min_impurity_decrease=0.0,\n",
       "                                                                   min_impurity_split=None,\n",
       "                                                                   min_samples_leaf=1,\n",
       "                                                                   min_samples_split=2,\n",
       "                                                                   min_weight_fraction_leaf=0.0,\n",
       "                                                                   presort=False,\n",
       "                                                                   random_state=1,\n",
       "                                                                   splitter='best')],\n",
       "                         'max_features': [0.7, 0.8, 0.9, 1],\n",
       "                         'n_estimators': [5, 7, 15, 51, 101]},\n",
       "             pre_dispatch='2*n_jobs', refit=True, return_train_score=False,\n",
       "             scoring='recall', verbose=0)"
      ]
     },
     "execution_count": 48,
     "metadata": {},
     "output_type": "execute_result"
    }
   ],
   "source": [
    "# grid search for bagging classifier\n",
    "cl1 = DecisionTreeClassifier(class_weight={0:0.19,1:0.81},random_state=1)\n",
    "param_grid = {'base_estimator':[cl1],\n",
    "              'n_estimators':[5,7,15,51,101],\n",
    "              'max_features': [0.7,0.8,0.9,1]\n",
    "             }\n",
    "\n",
    "grid = GridSearchCV(BaggingClassifier(random_state=1,bootstrap=True), param_grid=param_grid, scoring = 'recall', cv = 5)\n",
    "grid.fit(X_train, y_train)"
   ]
  },
  {
   "cell_type": "code",
   "execution_count": 49,
   "metadata": {},
   "outputs": [
    {
     "data": {
      "text/plain": [
       "BaggingClassifier(base_estimator=DecisionTreeClassifier(class_weight={0: 0.19,\n",
       "                                                                      1: 0.81},\n",
       "                                                        criterion='gini',\n",
       "                                                        max_depth=None,\n",
       "                                                        max_features=None,\n",
       "                                                        max_leaf_nodes=None,\n",
       "                                                        min_impurity_decrease=0.0,\n",
       "                                                        min_impurity_split=None,\n",
       "                                                        min_samples_leaf=1,\n",
       "                                                        min_samples_split=2,\n",
       "                                                        min_weight_fraction_leaf=0.0,\n",
       "                                                        presort=False,\n",
       "                                                        random_state=1,\n",
       "                                                        splitter='best'),\n",
       "                  bootstrap=True, bootstrap_features=False, max_features=1,\n",
       "                  max_samples=1.0, n_estimators=7, n_jobs=None, oob_score=False,\n",
       "                  random_state=1, verbose=0, warm_start=False)"
      ]
     },
     "execution_count": 49,
     "metadata": {},
     "output_type": "execute_result"
    }
   ],
   "source": [
    "## getting the best estimator\n",
    "bagging_estimator  = grid.best_estimator_\n",
    "bagging_estimator.fit(X_train,y_train)"
   ]
  },
  {
   "cell_type": "code",
   "execution_count": 50,
   "metadata": {
    "scrolled": true
   },
   "outputs": [
    {
     "data": {
      "image/png": "[encoded data removed]",
      "text/plain": [
       "<Figure size 720x504 with 2 Axes>"
      ]
     },
     "metadata": {
      "needs_background": "light"
     },
     "output_type": "display_data"
    }
   ],
   "source": [
    "make_confusion_matrix(bagging_estimator,y_test)"
   ]
  },
  {
   "cell_type": "code",
   "execution_count": 51,
   "metadata": {},
   "outputs": [
    {
     "name": "stdout",
     "output_type": "stream",
     "text": [
      "Accuracy on training set :  0.6132709733995908\n",
      "Accuracy on test set :  0.6394001363326517\n",
      "Recall on training set :  0.6444099378881988\n",
      "Recall on test set :  0.7137681159420289\n",
      "Precision on training set :  0.27501656726308815\n",
      "Precision on test set :  0.3044822256568779\n"
     ]
    }
   ],
   "source": [
    "tuned_bagging_acc= get_accuracy_score(bagging_estimator)\n",
    "tuned_bagging_recall = get_recall_score(bagging_estimator)\n",
    "tuned_bagging_precision = get_precision_score(bagging_estimator)"
   ]
  },
  {
   "cell_type": "markdown",
   "metadata": {},
   "source": [
    "-  Like the tuned Decision Tree, the tuned bagging also shows a better balance between test and training. Test data are a little bit bigger than Training."
   ]
  },
  {
   "cell_type": "markdown",
   "metadata": {},
   "source": [
    "### Tuning Random Forest"
   ]
  },
  {
   "cell_type": "code",
   "execution_count": 52,
   "metadata": {},
   "outputs": [
    {
     "data": {
      "text/plain": [
       "RandomForestClassifier(bootstrap=True, class_weight=None, criterion='gini',\n",
       "                       max_depth=None, max_features=0.7, max_leaf_nodes=None,\n",
       "                       min_impurity_decrease=0.0, min_impurity_split=None,\n",
       "                       min_samples_leaf=1, min_samples_split=2,\n",
       "                       min_weight_fraction_leaf=0.0, n_estimators=251,\n",
       "                       n_jobs=None, oob_score=False, random_state=1, verbose=0,\n",
       "                       warm_start=False)"
      ]
     },
     "execution_count": 52,
     "metadata": {},
     "output_type": "execute_result"
    }
   ],
   "source": [
    "# Choose the type of classifier. \n",
    "rf_estimator = RandomForestClassifier(random_state=1)\n",
    "\n",
    "# Grid of parameters to choose from\n",
    "parameters = {  \n",
    "        \"n_estimators\": [110,251,501],\n",
    "        \"min_samples_leaf\": np.arange(1, 6,1),\n",
    "        \"max_features\": [0.7,0.9,\"log2\",\"auto\"],\n",
    "        #\"max_samples\": [0.7,0.9,None],\n",
    "}\n",
    "\n",
    "\n",
    "# Run the grid search\n",
    "grid_obj = GridSearchCV(rf_estimator, parameters, scoring='recall',cv=5)\n",
    "grid_obj = grid_obj.fit(X_train, y_train)\n",
    "\n",
    "# Set the clf to the best combination of parameters\n",
    "rf_estimator = grid_obj.best_estimator_\n",
    "\n",
    "# Fit the best algorithm to the data. \n",
    "rf_estimator.fit(X_train, y_train)\n"
   ]
  },
  {
   "cell_type": "code",
   "execution_count": 53,
   "metadata": {
    "scrolled": true
   },
   "outputs": [
    {
     "data": {
      "image/png": "[encoded data removed]",
      "text/plain": [
       "<Figure size 720x504 with 2 Axes>"
      ]
     },
     "metadata": {
      "needs_background": "light"
     },
     "output_type": "display_data"
    }
   ],
   "source": [
    "make_confusion_matrix(rf_estimator,y_test)"
   ]
  },
  {
   "cell_type": "code",
   "execution_count": 54,
   "metadata": {},
   "outputs": [
    {
     "name": "stdout",
     "output_type": "stream",
     "text": [
      "Accuracy on training set :  1.0\n",
      "Accuracy on test set :  0.934560327198364\n",
      "Recall on training set :  1.0\n",
      "Recall on test set :  0.7101449275362319\n",
      "Precision on training set :  1.0\n",
      "Precision on test set :  0.9245283018867925\n"
     ]
    }
   ],
   "source": [
    "tuned_rf_acc = get_accuracy_score(rf_estimator)\n",
    "tuned_rf_recall = get_recall_score(rf_estimator)\n",
    "tuned_rf_precision = get_precision_score(rf_estimator)"
   ]
  },
  {
   "cell_type": "markdown",
   "metadata": {},
   "source": [
    "- Random Forest after tuning shows signd of overfitting. But still, the Recall on test need improvements."
   ]
  },
  {
   "cell_type": "markdown",
   "metadata": {},
   "source": [
    "## Comparing all the Models"
   ]
  },
  {
   "cell_type": "code",
   "execution_count": 55,
   "metadata": {},
   "outputs": [],
   "source": [
    "# defining list of models\n",
    "models = [dtree,dtree_estimator,bagging,bagging_wt,bagging_estimator,rf,rf_wt,rf_estimator]\n",
    "# defining empty lists to add train and test results\n",
    "acc_train = []\n",
    "acc_test = []\n",
    "recall_train = []\n",
    "recall_test = []\n",
    "precision_train = []\n",
    "precision_test = []\n",
    "\n",
    "# looping through all the models to get the accuracy,recall and precision scores\n",
    "for model in models:\n",
    "    # accuracy score\n",
    "    j = get_accuracy_score(model,False)\n",
    "    acc_train.append(j[0])\n",
    "    acc_test.append(j[1])\n",
    "    # recall score\n",
    "    k = get_recall_score(model,False)\n",
    "    recall_train.append(k[0])\n",
    "    recall_test.append(k[1])\n",
    "    # precision score\n",
    "    l = get_precision_score(model,False)\n",
    "    precision_train.append(l[0])\n",
    "    precision_test.append(l[1])"
   ]
  },
  {
   "cell_type": "code",
   "execution_count": 56,
   "metadata": {},
   "outputs": [
    {
     "data": {
      "text/html": [
       "<div>\n",
       "<style scoped>\n",
       "    .dataframe tbody tr th:only-of-type {\n",
       "        vertical-align: middle;\n",
       "    }\n",
       "\n",
       "    .dataframe tbody tr th {\n",
       "        vertical-align: top;\n",
       "    }\n",
       "\n",
       "    .dataframe thead th {\n",
       "        text-align: right;\n",
       "    }\n",
       "</style>\n",
       "<table border=\"1\" class=\"dataframe\">\n",
       "  <thead>\n",
       "    <tr style=\"text-align: right;\">\n",
       "      <th></th>\n",
       "      <th>Model</th>\n",
       "      <th>Train_Accuracy</th>\n",
       "      <th>Test_Accuracy</th>\n",
       "      <th>Train_Recall</th>\n",
       "      <th>Test_Recall</th>\n",
       "      <th>Train_Precision</th>\n",
       "      <th>Test_Precision</th>\n",
       "    </tr>\n",
       "  </thead>\n",
       "  <tbody>\n",
       "    <tr>\n",
       "      <th>0</th>\n",
       "      <td>Decision Tree</td>\n",
       "      <td>1.000000</td>\n",
       "      <td>0.896387</td>\n",
       "      <td>1.000000</td>\n",
       "      <td>0.735507</td>\n",
       "      <td>1.000000</td>\n",
       "      <td>0.719858</td>\n",
       "    </tr>\n",
       "    <tr>\n",
       "      <th>1</th>\n",
       "      <td>Tuned Decision Tree</td>\n",
       "      <td>0.581117</td>\n",
       "      <td>0.575324</td>\n",
       "      <td>0.763975</td>\n",
       "      <td>0.789855</td>\n",
       "      <td>0.277496</td>\n",
       "      <td>0.278416</td>\n",
       "    </tr>\n",
       "    <tr>\n",
       "      <th>2</th>\n",
       "      <td>Bagging Classifier</td>\n",
       "      <td>0.994154</td>\n",
       "      <td>0.907975</td>\n",
       "      <td>0.972050</td>\n",
       "      <td>0.601449</td>\n",
       "      <td>0.996815</td>\n",
       "      <td>0.869110</td>\n",
       "    </tr>\n",
       "    <tr>\n",
       "      <th>3</th>\n",
       "      <td>Weighted Bagging Classifier</td>\n",
       "      <td>0.994738</td>\n",
       "      <td>0.909339</td>\n",
       "      <td>0.975155</td>\n",
       "      <td>0.586957</td>\n",
       "      <td>0.996825</td>\n",
       "      <td>0.895028</td>\n",
       "    </tr>\n",
       "    <tr>\n",
       "      <th>4</th>\n",
       "      <td>Tuned Bagging Classifier</td>\n",
       "      <td>0.613271</td>\n",
       "      <td>0.639400</td>\n",
       "      <td>0.644410</td>\n",
       "      <td>0.713768</td>\n",
       "      <td>0.275017</td>\n",
       "      <td>0.304482</td>\n",
       "    </tr>\n",
       "    <tr>\n",
       "      <th>5</th>\n",
       "      <td>Random Forest</td>\n",
       "      <td>0.994446</td>\n",
       "      <td>0.905249</td>\n",
       "      <td>0.972050</td>\n",
       "      <td>0.557971</td>\n",
       "      <td>0.998405</td>\n",
       "      <td>0.900585</td>\n",
       "    </tr>\n",
       "    <tr>\n",
       "      <th>6</th>\n",
       "      <td>Weighted Random Forest</td>\n",
       "      <td>0.994446</td>\n",
       "      <td>0.893661</td>\n",
       "      <td>0.970497</td>\n",
       "      <td>0.485507</td>\n",
       "      <td>1.000000</td>\n",
       "      <td>0.905405</td>\n",
       "    </tr>\n",
       "    <tr>\n",
       "      <th>7</th>\n",
       "      <td>Tuned Random Forest</td>\n",
       "      <td>1.000000</td>\n",
       "      <td>0.934560</td>\n",
       "      <td>1.000000</td>\n",
       "      <td>0.710145</td>\n",
       "      <td>1.000000</td>\n",
       "      <td>0.924528</td>\n",
       "    </tr>\n",
       "  </tbody>\n",
       "</table>\n",
       "</div>"
      ],
      "text/plain": [
       "                         Model  Train_Accuracy  Test_Accuracy  Train_Recall  \\\n",
       "0                Decision Tree        1.000000       0.896387      1.000000   \n",
       "1          Tuned Decision Tree        0.581117       0.575324      0.763975   \n",
       "2           Bagging Classifier        0.994154       0.907975      0.972050   \n",
       "3  Weighted Bagging Classifier        0.994738       0.909339      0.975155   \n",
       "4     Tuned Bagging Classifier        0.613271       0.639400      0.644410   \n",
       "5                Random Forest        0.994446       0.905249      0.972050   \n",
       "6       Weighted Random Forest        0.994446       0.893661      0.970497   \n",
       "7          Tuned Random Forest        1.000000       0.934560      1.000000   \n",
       "\n",
       "   Test_Recall  Train_Precision  Test_Precision  \n",
       "0     0.735507         1.000000        0.719858  \n",
       "1     0.789855         0.277496        0.278416  \n",
       "2     0.601449         0.996815        0.869110  \n",
       "3     0.586957         0.996825        0.895028  \n",
       "4     0.713768         0.275017        0.304482  \n",
       "5     0.557971         0.998405        0.900585  \n",
       "6     0.485507         1.000000        0.905405  \n",
       "7     0.710145         1.000000        0.924528  "
      ]
     },
     "execution_count": 56,
     "metadata": {},
     "output_type": "execute_result"
    }
   ],
   "source": [
    "comparison_frame = pd.DataFrame({'Model':['Decision Tree','Tuned Decision Tree','Bagging Classifier',\n",
    "                                          'Weighted Bagging Classifier','Tuned Bagging Classifier',\n",
    "                                          'Random Forest','Weighted Random Forest','Tuned Random Forest'], \n",
    "                                          'Train_Accuracy': acc_train,\n",
    "                                          'Test_Accuracy': acc_test,\n",
    "                                          'Train_Recall': recall_train,\n",
    "                                          'Test_Recall': recall_test,\n",
    "                                          'Train_Precision': precision_train,\n",
    "                                          'Test_Precision': precision_test}) \n",
    "comparison_frame"
   ]
  },
  {
   "cell_type": "markdown",
   "metadata": {},
   "source": [
    "- Decision Tree shows good performance on the Training set but not so well on Testing Set\n",
    "- Bagging classifier overfitted the data before tuning.\n",
    "- Decision Tree, Bagging Classifier and Random Forest is overfitting the data\n",
    "- Tuning process helps bring balance to the data\n",
    "- Tuned Decision Tree is showing Test_Recall bigger than Train_Recall. Also, the high Recall means  low false negative rate, however the low Precision means  high false positive rate\n",
    "- Tuned Bagging Classifier is following the same scenario as Tuned Decision Tree.\n",
    "- Best two models is Tuned Decision Tree and Tuned Bagging Classifier.\n",
    "- Random Forest is not showing significant changes after tuning or weight."
   ]
  },
  {
   "cell_type": "code",
   "execution_count": 189,
   "metadata": {},
   "outputs": [
    {
     "name": "stdout",
     "output_type": "stream",
     "text": [
      "                                    Imp\n",
      "Age                            0.121722\n",
      "MonthlyIncome                  0.118929\n",
      "DurationOfPitch                0.094858\n",
      "Passport                       0.069542\n",
      "NumberOfTrips                  0.065823\n",
      "NumberOfFollowups              0.057246\n",
      "PitchSatisfactionScore         0.053416\n",
      "PreferredPropertyStar          0.043341\n",
      "CityTier                       0.034931\n",
      "MaritalStatus_Single           0.034662\n",
      "NumberOfPersonVisited          0.029405\n",
      "NumberOfChildrenVisited        0.026775\n",
      "Occupation_Small Business      0.022134\n",
      "TypeofContact_Self Enquiry     0.020903\n",
      "Gender_Female                  0.019430\n",
      "ProductPitched_1               0.018878\n",
      "OwnCar                         0.018720\n",
      "Occupation_Salaried            0.018642\n",
      "Occupation_Large Business      0.018609\n",
      "Gender_Male                    0.018371\n",
      "TypeofContact_Company Invited  0.016776\n",
      "Designation_1                  0.015709\n",
      "MaritalStatus_Married          0.012846\n",
      "MaritalStatus_Divorced         0.012741\n",
      "ProductPitched_2               0.006843\n",
      "ProductPitched_3               0.006287\n",
      "Designation_2                  0.005837\n",
      "Designation_3                  0.004714\n",
      "ProductPitched_4               0.004618\n",
      "Designation_4                  0.003045\n",
      "Designation_5                  0.002347\n",
      "ProductPitched_5               0.001898\n",
      "Occupation_Free Lancer         0.000000\n"
     ]
    }
   ],
   "source": [
    "# importance of features in the tree building. It is also known as the Gini importance )\n",
    "\n",
    "print (pd.DataFrame(rf.feature_importances_, columns = [\"Imp\"], index = X_train.columns).sort_values(by = 'Imp', ascending = False))"
   ]
  },
  {
   "cell_type": "code",
   "execution_count": 190,
   "metadata": {},
   "outputs": [],
   "source": [
    "feature_names = X_train.columns"
   ]
  },
  {
   "cell_type": "code",
   "execution_count": 193,
   "metadata": {},
   "outputs": [
    {
     "data": {
      "image/png": "[encoded data removed]",
      "text/plain": [
       "<Figure size 720x720 with 1 Axes>"
      ]
     },
     "metadata": {
      "needs_background": "light"
     },
     "output_type": "display_data"
    }
   ],
   "source": [
    "importances = rf_estimator.feature_importances_\n",
    "indices = np.argsort(importances)\n",
    "\n",
    "plt.figure(figsize=(10,10))\n",
    "plt.title('Feature Importances')\n",
    "plt.barh(range(len(indices)), importances[indices], color='blue', align='center')\n",
    "plt.yticks(range(len(indices)), [feature_names[i] for i in indices])\n",
    "plt.xlabel('Relative Importance')\n",
    "plt.show()"
   ]
  },
  {
   "cell_type": "markdown",
   "metadata": {},
   "source": [
    "- Age is the most important value for the prediction, fallowed by Monthly Income and Duration of Pitch. \n",
    "- Marital Status Single show more importante than Married\n",
    "- Occupation Large or Small business have almost the same importance, like Gender Female and Male."
   ]
  },
  {
   "cell_type": "markdown",
   "metadata": {},
   "source": [
    "## Business Insights and Recommendations\n",
    "\n",
    "The predict model presented above can help the Travel Agency:\n",
    "\n",
    "- Identify the characteristic of the client most likely to purchase a travel package\n",
    "- The Travel Agency can have insights about the best approach used by the sales team.\n",
    "\n",
    "\n",
    "* Important values to consider: - Age, Monthly Income, Duration of Pitch and Passport\n",
    "* Age: Adults between 19 to 25 are more likely to purchase this item. \n",
    "\n",
    "* Monthly Income will decide the power of purchase\n",
    "\n",
    "* The Duration of Picth help the client understand details about the product but must be short, no more than 30 \n",
    "\n",
    "* Passport also is an important factor, since the correct documentation will avoid restrictions.\n",
    "\n",
    "* Clients with Marital Status single is most likely to spend financial resources traveling since this population doesn't have other responsibilities.\n",
    "\n",
    "* Location is a good topic to consider when marketing sinde the value City Tier is showing as the number 9 as importance.\n",
    "\n",
    "* Men and women will be equal in the purchase decision\n",
    "\n",
    "* When the customer is already married, they lose interest in this industry, but there is a population that will travel in family."
   ]
  },
  {
   "cell_type": "markdown",
   "metadata": {},
   "source": [
    "## Building Model part II - Boosting"
   ]
  },
  {
   "cell_type": "code",
   "execution_count": 57,
   "metadata": {},
   "outputs": [],
   "source": [
    "##  Function to calculate r2_score and RMSE on train and test data\n",
    "def get_model_score(model, flag=True):\n",
    "    '''\n",
    "    model : classifier to predict values of X\n",
    "\n",
    "    '''\n",
    "    # defining an empty list to store train and test results\n",
    "    score_list=[] \n",
    "    \n",
    "    pred_train = model.predict(X_train)\n",
    "    pred_test = model.predict(X_test)\n",
    "    \n",
    "    train_r2=metrics.r2_score(y_train,pred_train)\n",
    "    test_r2=metrics.r2_score(y_test,pred_test)\n",
    "    train_rmse=np.sqrt(metrics.mean_squared_error(y_train,pred_train))\n",
    "    test_rmse=np.sqrt(metrics.mean_squared_error(y_test,pred_test))\n",
    "    \n",
    "    #Adding all scores in the list\n",
    "    score_list.extend((train_r2,test_r2,train_rmse,test_rmse))\n",
    "    \n",
    "    # If the flag is set to True then only the following print statements will be dispayed, the default value is True\n",
    "    if flag==True: \n",
    "        print(\"R-square on training set : \",metrics.r2_score(y_train,pred_train))\n",
    "        print(\"R-square on test set : \",metrics.r2_score(y_test,pred_test))\n",
    "        print(\"RMSE on training set : \",np.sqrt(metrics.mean_squared_error(y_train,pred_train)))\n",
    "        print(\"RMSE on test set : \",np.sqrt(metrics.mean_squared_error(y_test,pred_test)))\n",
    "    \n",
    "    # returning the list with train and test scores\n",
    "    return score_list"
   ]
  },
  {
   "cell_type": "markdown",
   "metadata": {},
   "source": [
    "# Boosting Models"
   ]
  },
  {
   "cell_type": "markdown",
   "metadata": {},
   "source": [
    "## AdaBoost Regressor"
   ]
  },
  {
   "cell_type": "code",
   "execution_count": 58,
   "metadata": {},
   "outputs": [
    {
     "data": {
      "text/plain": [
       "AdaBoostRegressor(base_estimator=None, learning_rate=1.0, loss='linear',\n",
       "                  n_estimators=50, random_state=1)"
      ]
     },
     "execution_count": 58,
     "metadata": {},
     "output_type": "execute_result"
    }
   ],
   "source": [
    "ab_regressor=AdaBoostRegressor(random_state=1)\n",
    "ab_regressor.fit(X_train,y_train)"
   ]
  },
  {
   "cell_type": "code",
   "execution_count": 59,
   "metadata": {},
   "outputs": [
    {
     "name": "stdout",
     "output_type": "stream",
     "text": [
      "R-square on training set :  0.175476230392547\n",
      "R-square on test set :  0.21274281406055873\n",
      "RMSE on training set :  0.35495997852464833\n",
      "RMSE on test set :  0.3467676894201917\n"
     ]
    }
   ],
   "source": [
    "ab_regressor_score=get_model_score(ab_regressor)"
   ]
  },
  {
   "cell_type": "markdown",
   "metadata": {},
   "source": [
    "- Training and Test in R-Square and RMSE are very similar. We can see low performance on AdaBoosting."
   ]
  },
  {
   "cell_type": "markdown",
   "metadata": {},
   "source": [
    "## Hyperparameter Tuning AdaBoost"
   ]
  },
  {
   "cell_type": "code",
   "execution_count": 60,
   "metadata": {},
   "outputs": [
    {
     "data": {
      "text/plain": [
       "AdaBoostRegressor(base_estimator=None, learning_rate=0.1, loss='linear',\n",
       "                  n_estimators=20, random_state=1)"
      ]
     },
     "execution_count": 60,
     "metadata": {},
     "output_type": "execute_result"
    }
   ],
   "source": [
    "# Choose the type of classifier. \n",
    "ab_tuned = AdaBoostRegressor(random_state=1)\n",
    "\n",
    "# Grid of parameters to choose from\n",
    "parameters = {'n_estimators': np.arange(10,100,10), \n",
    "              'learning_rate': [1, 0.1, 0.5, 0.01],\n",
    "              }\n",
    "\n",
    "# Type of scoring used to compare parameter combinations\n",
    "scorer = metrics.make_scorer(metrics.r2_score)\n",
    "\n",
    "# Run the grid search\n",
    "grid_obj = GridSearchCV(ab_tuned, parameters, scoring=scorer,cv=5)\n",
    "grid_obj = grid_obj.fit(X_train, y_train)\n",
    "\n",
    "# Set the clf to the best combination of parameters\n",
    "ab_tuned = grid_obj.best_estimator_\n",
    "\n",
    "# Fit the best algorithm to the data. \n",
    "ab_tuned.fit(X_train, y_train)"
   ]
  },
  {
   "cell_type": "code",
   "execution_count": 61,
   "metadata": {},
   "outputs": [
    {
     "name": "stdout",
     "output_type": "stream",
     "text": [
      "R-square on training set :  0.19448527250617098\n",
      "R-square on test set :  0.2161771285702606\n",
      "RMSE on training set :  0.35084439436670223\n",
      "RMSE on test set :  0.34601049661916683\n"
     ]
    }
   ],
   "source": [
    "ab_tuned_score=get_model_score(ab_tuned)"
   ]
  },
  {
   "cell_type": "markdown",
   "metadata": {},
   "source": [
    "- Is not showing significant changes after tuning."
   ]
  },
  {
   "cell_type": "markdown",
   "metadata": {},
   "source": [
    "## Gradient Boosting Regressor"
   ]
  },
  {
   "cell_type": "code",
   "execution_count": 62,
   "metadata": {
    "scrolled": true
   },
   "outputs": [
    {
     "data": {
      "text/plain": [
       "GradientBoostingRegressor(alpha=0.9, criterion='friedman_mse', init=None,\n",
       "                          learning_rate=0.1, loss='ls', max_depth=3,\n",
       "                          max_features=None, max_leaf_nodes=None,\n",
       "                          min_impurity_decrease=0.0, min_impurity_split=None,\n",
       "                          min_samples_leaf=1, min_samples_split=2,\n",
       "                          min_weight_fraction_leaf=0.0, n_estimators=100,\n",
       "                          n_iter_no_change=None, presort='auto', random_state=1,\n",
       "                          subsample=1.0, tol=0.0001, validation_fraction=0.1,\n",
       "                          verbose=0, warm_start=False)"
      ]
     },
     "execution_count": 62,
     "metadata": {},
     "output_type": "execute_result"
    }
   ],
   "source": [
    "gb_estimator=GradientBoostingRegressor(random_state=1)\n",
    "gb_estimator.fit(X_train,y_train)"
   ]
  },
  {
   "cell_type": "code",
   "execution_count": 63,
   "metadata": {},
   "outputs": [
    {
     "name": "stdout",
     "output_type": "stream",
     "text": [
      "R-square on training set :  0.4170411821080414\n",
      "R-square on test set :  0.352198281590277\n",
      "RMSE on training set :  0.2984672865455434\n",
      "RMSE on test set :  0.3145584497373757\n"
     ]
    }
   ],
   "source": [
    "gb_estimator_score=get_model_score(gb_estimator)"
   ]
  },
  {
   "cell_type": "markdown",
   "metadata": {},
   "source": [
    "- Gradient boosting is performing better than Ada boosting. RMSE Training is close to RMASE Test."
   ]
  },
  {
   "cell_type": "markdown",
   "metadata": {},
   "source": [
    "## Hyperparameter Tuning Gradient"
   ]
  },
  {
   "cell_type": "code",
   "execution_count": 64,
   "metadata": {},
   "outputs": [
    {
     "data": {
      "text/plain": [
       "GradientBoostingRegressor(alpha=0.9, criterion='friedman_mse', init=None,\n",
       "                          learning_rate=0.1, loss='ls', max_depth=10,\n",
       "                          max_features=0.7, max_leaf_nodes=None,\n",
       "                          min_impurity_decrease=0.0, min_impurity_split=None,\n",
       "                          min_samples_leaf=1, min_samples_split=2,\n",
       "                          min_weight_fraction_leaf=0.0, n_estimators=175,\n",
       "                          n_iter_no_change=None, presort='auto', random_state=1,\n",
       "                          subsample=1, tol=0.0001, validation_fraction=0.1,\n",
       "                          verbose=0, warm_start=False)"
      ]
     },
     "execution_count": 64,
     "metadata": {},
     "output_type": "execute_result"
    }
   ],
   "source": [
    "# Choose the type of classifier. \n",
    "gb_tuned = GradientBoostingRegressor(random_state=1)\n",
    "\n",
    "# Grid of parameters to choose from\n",
    "parameters = {'n_estimators': np.arange(50,200,25), \n",
    "              'subsample':[0.7,0.8,0.9,1],\n",
    "              'max_features':[0.7,0.8,0.9,1],\n",
    "              'max_depth':[3,5,7,10]\n",
    "              }\n",
    "\n",
    "# Type of scoring used to compare parameter combinations\n",
    "scorer = metrics.make_scorer(metrics.r2_score)\n",
    "\n",
    "# Run the grid search\n",
    "grid_obj = GridSearchCV(gb_tuned, parameters, scoring=scorer,cv=5)\n",
    "grid_obj = grid_obj.fit(X_train, y_train)\n",
    "\n",
    "# Set the clf to the best combination of parameters\n",
    "gb_tuned = grid_obj.best_estimator_\n",
    "\n",
    "# Fit the best algorithm to the data. \n",
    "gb_tuned.fit(X_train, y_train)"
   ]
  },
  {
   "cell_type": "code",
   "execution_count": 65,
   "metadata": {},
   "outputs": [
    {
     "name": "stdout",
     "output_type": "stream",
     "text": [
      "R-square on training set :  0.9999759156686475\n",
      "R-square on test set :  0.7076511366003826\n",
      "RMSE on training set :  0.00191842619648912\n",
      "RMSE on test set :  0.21131533410416775\n"
     ]
    }
   ],
   "source": [
    "gb_tuned_score=get_model_score(gb_tuned)"
   ]
  },
  {
   "cell_type": "markdown",
   "metadata": {},
   "source": [
    "- This model has improved in terms of r2 score and RMSE.\n",
    "- The r2 score has increase by approx 30 on the test data.\n",
    "- RMSE has decreased approx 10 on the test data."
   ]
  },
  {
   "cell_type": "markdown",
   "metadata": {},
   "source": [
    "## XGBoost Regressor"
   ]
  },
  {
   "cell_type": "markdown",
   "metadata": {},
   "source": [
    "* “Because of Python Tech Issue, I found very difficult to import and run XGBoost and Stacking Model. Due to the lack of Tech Support these two methods were attempted to run in another system, not inside Anaconda/Jupyter. You might see some conflicts while running these methods. Here I'm adding the results that I found from another system.” Att: Alice"
   ]
  },
  {
   "cell_type": "code",
   "execution_count": 66,
   "metadata": {},
   "outputs": [
    {
     "ename": "NameError",
     "evalue": "name 'XGBRegressor' is not defined",
     "output_type": "error",
     "traceback": [
      "\u001b[1;31m---------------------------------------------------------------------------\u001b[0m",
      "\u001b[1;31mNameError\u001b[0m                                 Traceback (most recent call last)",
      "\u001b[1;32m<ipython-input-66-24e7c8c2cd33>\u001b[0m in \u001b[0;36m<module>\u001b[1;34m\u001b[0m\n\u001b[1;32m----> 1\u001b[1;33m \u001b[0mxgb_estimator\u001b[0m\u001b[1;33m=\u001b[0m\u001b[0mXGBRegressor\u001b[0m\u001b[1;33m(\u001b[0m\u001b[0mrandom_state\u001b[0m\u001b[1;33m=\u001b[0m\u001b[1;36m1\u001b[0m\u001b[1;33m)\u001b[0m\u001b[1;33m\u001b[0m\u001b[1;33m\u001b[0m\u001b[0m\n\u001b[0m\u001b[0;32m      2\u001b[0m \u001b[0mxgb_estimator\u001b[0m\u001b[1;33m.\u001b[0m\u001b[0mfit\u001b[0m\u001b[1;33m(\u001b[0m\u001b[0mX_train\u001b[0m\u001b[1;33m,\u001b[0m\u001b[0my_train\u001b[0m\u001b[1;33m)\u001b[0m\u001b[1;33m\u001b[0m\u001b[1;33m\u001b[0m\u001b[0m\n",
      "\u001b[1;31mNameError\u001b[0m: name 'XGBRegressor' is not defined"
     ]
    }
   ],
   "source": [
    "xgb_estimator=XGBRegressor(random_state=1)\n",
    "xgb_estimator.fit(X_train,y_train)"
   ]
  },
  {
   "cell_type": "markdown",
   "metadata": {},
   "source": [
    "XGBRegressor(base_score=0.5, booster='gbtree', colsample_bylevel=1,\n",
    "       colsample_bytree=1, gamma=0, learning_rate=0.1, max_delta_step=0,\n",
    "       max_depth=3, min_child_weight=1, missing=None, n_estimators=100,\n",
    "       n_jobs=1, nthread=None, objective='reg:linear', random_state=1,\n",
    "       reg_alpha=0, reg_lambda=1, scale_pos_weight=1, seed=None,\n",
    "       silent=True, subsample=1)"
   ]
  },
  {
   "cell_type": "code",
   "execution_count": null,
   "metadata": {},
   "outputs": [],
   "source": [
    "xgb_estimator_score=get_model_score(xgb_estimator)"
   ]
  },
  {
   "cell_type": "markdown",
   "metadata": {},
   "source": [
    "R-square on training set :  0.41110977121200243\n",
    "R-square on test set :  0.33898398343686165\n",
    "RMSE on training set :  0.2999818461434116\n",
    "RMSE on test set :  0.3177505414455375"
   ]
  },
  {
   "cell_type": "markdown",
   "metadata": {},
   "source": [
    "- XGBoost very similar results to Gradient Boost. RMSE Test here is 31% while training 29%."
   ]
  },
  {
   "cell_type": "markdown",
   "metadata": {},
   "source": [
    "## Hyperparameter Tuning XGBoost"
   ]
  },
  {
   "cell_type": "code",
   "execution_count": null,
   "metadata": {},
   "outputs": [],
   "source": [
    "# Choose the type of classifier. \n",
    "xgb_tuned = XGBRegressor(random_state=1)\n",
    "\n",
    "# Grid of parameters to choose from\n",
    "parameters = {'n_estimators': [75,100,125,150], \n",
    "              'subsample':[0.7, 0.8, 0.9, 1],\n",
    "              'gamma':[0, 1, 3, 5],\n",
    "              'colsample_bytree':[0.7, 0.8, 0.9, 1],\n",
    "              'colsample_bylevel':[0.7, 0.8, 0.9, 1]\n",
    "              }\n",
    "\n",
    "# Type of scoring used to compare parameter combinations\n",
    "scorer = metrics.make_scorer(metrics.r2_score)\n",
    "\n",
    "# Run the grid search\n",
    "grid_obj = GridSearchCV(xgb_tuned, parameters, scoring=scorer,cv=5)\n",
    "grid_obj = grid_obj.fit(X_train, y_train)\n",
    "\n",
    "# Set the clf to the best combination of parameters\n",
    "xgb_tuned = grid_obj.best_estimator_\n",
    "\n",
    "# Fit the best algorithm to the data. \n",
    "xgb_tuned.fit(X_train, y_train)"
   ]
  },
  {
   "cell_type": "markdown",
   "metadata": {},
   "source": [
    "XGBRegressor(base_score=0.5, booster='gbtree', colsample_bylevel=0.7,\n",
    "       colsample_bytree=0.8, gamma=0, learning_rate=0.1, max_delta_step=0,\n",
    "       max_depth=3, min_child_weight=1, missing=None, n_estimators=150,\n",
    "       n_jobs=1, nthread=None, objective='reg:linear', random_state=1,\n",
    "       reg_alpha=0, reg_lambda=1, scale_pos_weight=1, seed=None,\n",
    "       silent=True, subsample=0.9)"
   ]
  },
  {
   "cell_type": "code",
   "execution_count": null,
   "metadata": {},
   "outputs": [],
   "source": [
    "xgb_tuned_score=get_model_score(xgb_tuned)"
   ]
  },
  {
   "cell_type": "markdown",
   "metadata": {},
   "source": [
    "R-square on training set :  0.4504389106860879\n",
    "R-square on test set :  0.3609058921708336\n",
    "RMSE on training set :  0.2897915963384604\n",
    "RMSE on test set :  0.31243718389979236"
   ]
  },
  {
   "cell_type": "markdown",
   "metadata": {},
   "source": [
    "- No significant changes after Tuning XGBoost"
   ]
  },
  {
   "cell_type": "markdown",
   "metadata": {},
   "source": [
    "## Stacking Model - I was not able to import. TECH ISSUE"
   ]
  },
  {
   "cell_type": "code",
   "execution_count": null,
   "metadata": {},
   "outputs": [],
   "source": [
    "from sklearn.ensemble import StackingRegressor"
   ]
  },
  {
   "cell_type": "code",
   "execution_count": 70,
   "metadata": {},
   "outputs": [
    {
     "ename": "NameError",
     "evalue": "name 'XGBRegressor' is not defined",
     "output_type": "error",
     "traceback": [
      "\u001b[1;31m---------------------------------------------------------------------------\u001b[0m",
      "\u001b[1;31mNameError\u001b[0m                                 Traceback (most recent call last)",
      "\u001b[1;32m<ipython-input-70-d8cb7e4d214d>\u001b[0m in \u001b[0;36m<module>\u001b[1;34m\u001b[0m\n\u001b[0;32m      1\u001b[0m estimators=[('Decision Tree', dtree_estimator),('Random Forest', rf_estimator),\n\u001b[0;32m      2\u001b[0m            ('Gradient Boosting', gb_tuned)]\n\u001b[1;32m----> 3\u001b[1;33m \u001b[0mfinal_estimator\u001b[0m\u001b[1;33m=\u001b[0m\u001b[0mXGBRegressor\u001b[0m\u001b[1;33m(\u001b[0m\u001b[0mrandom_state\u001b[0m\u001b[1;33m=\u001b[0m\u001b[1;36m1\u001b[0m\u001b[1;33m)\u001b[0m\u001b[1;33m\u001b[0m\u001b[1;33m\u001b[0m\u001b[0m\n\u001b[0m",
      "\u001b[1;31mNameError\u001b[0m: name 'XGBRegressor' is not defined"
     ]
    }
   ],
   "source": [
    "estimators=[('Decision Tree', dtree_estimator),('Random Forest', rf_estimator),\n",
    "           ('Gradient Boosting', gb_tuned)]\n",
    "final_estimator=XGBRegressor(random_state=1)"
   ]
  },
  {
   "cell_type": "code",
   "execution_count": null,
   "metadata": {},
   "outputs": [],
   "source": [
    "stacking_estimator=StackingRegressor(estimators=estimators, final_estimator=final_estimator,cv=5)\n",
    "stacking_estimator.fit(X_train,y_train)"
   ]
  },
  {
   "cell_type": "code",
   "execution_count": null,
   "metadata": {},
   "outputs": [],
   "source": [
    "stacking_estimator_score=get_model_score(stacking_estimator)"
   ]
  },
  {
   "cell_type": "markdown",
   "metadata": {},
   "source": [
    "## Check all models"
   ]
  },
  {
   "cell_type": "code",
   "execution_count": 71,
   "metadata": {},
   "outputs": [
    {
     "ename": "NameError",
     "evalue": "name 'xgb_estimator' is not defined",
     "output_type": "error",
     "traceback": [
      "\u001b[1;31m---------------------------------------------------------------------------\u001b[0m",
      "\u001b[1;31mNameError\u001b[0m                                 Traceback (most recent call last)",
      "\u001b[1;32m<ipython-input-71-b851ca319fd7>\u001b[0m in \u001b[0;36m<module>\u001b[1;34m\u001b[0m\n\u001b[0;32m      1\u001b[0m \u001b[1;31m# defining list of models\u001b[0m\u001b[1;33m\u001b[0m\u001b[1;33m\u001b[0m\u001b[1;33m\u001b[0m\u001b[0m\n\u001b[1;32m----> 2\u001b[1;33m models = [dtree, dtree_estimator, rf, rf_estimator, ab_regressor, ab_tuned, gb_estimator, gb_tuned, xgb_estimator,\n\u001b[0m\u001b[0;32m      3\u001b[0m          xgb_tuned] #stacking_estimator]\n\u001b[0;32m      4\u001b[0m \u001b[1;33m\u001b[0m\u001b[0m\n\u001b[0;32m      5\u001b[0m \u001b[1;31m# defining empty lists to add train and test results\u001b[0m\u001b[1;33m\u001b[0m\u001b[1;33m\u001b[0m\u001b[1;33m\u001b[0m\u001b[0m\n",
      "\u001b[1;31mNameError\u001b[0m: name 'xgb_estimator' is not defined"
     ]
    }
   ],
   "source": [
    "# defining list of models\n",
    "models = [dtree, dtree_estimator, rf, rf_estimator, ab_regressor, ab_tuned, gb_estimator, gb_tuned, xgb_estimator,\n",
    "         xgb_tuned] #stacking_estimator]\n",
    "\n",
    "# defining empty lists to add train and test results\n",
    "r2_train = []\n",
    "r2_test = []\n",
    "rmse_train= []\n",
    "rmse_test= []\n",
    "\n",
    "# looping through all the models to get the rmse and r2 scores\n",
    "for model in models:\n",
    "    # accuracy score\n",
    "    j = get_model_score(model,False)\n",
    "    r2_train.append(j[0])\n",
    "    r2_test.append(j[1])\n",
    "    rmse_train.append(j[2])\n",
    "    rmse_test.append(j[3])\n",
    "    "
   ]
  },
  {
   "cell_type": "code",
   "execution_count": null,
   "metadata": {},
   "outputs": [],
   "source": [
    "comparison_frame = pd.DataFrame({'Model':['Decision Tree','Tuned Decision Tree','Random Forest','Tuned Random Forest',\n",
    "                                          'AdaBoost Regressor', 'Tuned AdaBoost Regressor',\n",
    "                                          'Gradient Boosting Regressor', 'Tuned Gradient Boosting Regressor',\n",
    "                                          'XGBoost Regressor',  'Tuned XGBoost Regressor'],#'Stacking Regressor'], \n",
    "                                          'Train_r2': r2_train,'Test_r2': r2_test,\n",
    "                                          'Train_RMSE':rmse_train,'Test_RMSE':rmse_test}) \n",
    "comparison_frame"
   ]
  },
  {
   "cell_type": "markdown",
   "metadata": {},
   "source": [
    ">>>> Running this code in another system, the output is the numbers below: \n",
    "\tModel\tTest_RMSE\tTest_r2\tTrain_RMSE\tTrain_r2\n",
    "0\tDecision Tree\t0.321889\t0.321652\t0.000000\t1.000000\n",
    "1\tTuned Decision Tree\t0.590772\t-1.284963\t0.584812\t-1.238088\n",
    "2\tRandom Forest\t0.307817\t0.379668\t0.074525\t0.963655\n",
    "3\tTuned Random Forest\t0.255812\t0.571569\t0.000000\t1.000000\n",
    "4\tAdaBoost Regressor\t0.346768\t0.212743\t0.354960\t0.175476\n",
    "5\tTuned AdaBoost Regressor\t0.346010\t0.216177\t0.350844\t0.194485\n",
    "6\tGradient Boosting Regressor\t0.314558\t0.352198\t0.298467\t0.417041\n",
    "7\tTuned Gradient Boosting Regressor\t0.211315\t0.707651\t0.001918\t0.999976\n",
    "8\tXGBoost Regressor\t0.317751\t0.338984\t0.299982\t0.411110\n",
    "9\tTuned XGBoost Regressor\t0.312437\t0.360906\t0.289792\t0.450439"
   ]
  },
  {
   "cell_type": "markdown",
   "metadata": {},
   "source": [
    "- Tuned Gradient boosting model is the best model here. It has highest r2 score of approx 70% and lowest RMSE of approx 21% on the test data.\n",
    "- Followed by Tuned Random Forest with Test_r2 57% and Test_RMS 25%\n",
    "- Decision Tree shows Test_R2: 32% as well Test_RMSE: 32%. Since both testes are similar, we can consider as good model.  "
   ]
  },
  {
   "cell_type": "markdown",
   "metadata": {},
   "source": [
    "## Business Recommendations"
   ]
  },
  {
   "cell_type": "markdown",
   "metadata": {},
   "source": [
    "- It is suggested to use the model without boosting, to predict if clients targeted will purchase the new package as expected.\n",
    "\n",
    "- Also suggested increasing data values like season (date),  \n",
    "\n",
    "- Sales can be boosted during vacation periods, with a discount option when buying packages in low season\n",
    "\n",
    "- The majority of potential customers are single, young, and live medium towns. The company can explore topics for this audience\n",
    "\n",
    "- Potential customers traveling with someone, which could be encouraged to travel in groups at a better price.\n"
   ]
  },
  {
   "cell_type": "code",
   "execution_count": null,
   "metadata": {},
   "outputs": [],
   "source": []
  }
 ],
 "metadata": {
  "kernelspec": {
   "display_name": "Python 3",
   "language": "python",
   "name": "python3"
  },
  "language_info": {
   "codemirror_mode": {
    "name": "ipython",
    "version": 3
   },
   "file_extension": ".py",
   "mimetype": "text/x-python",
   "name": "python",
   "nbconvert_exporter": "python",
   "pygments_lexer": "ipython3",
   "version": "3.8.8"
  }
 },
 "nbformat": 4,
 "nbformat_minor": 2
}
